{
  "cells": [
    {
      "cell_type": "markdown",
      "metadata": {
        "id": "view-in-github",
        "colab_type": "text"
      },
      "source": [
        "<a href=\"https://colab.research.google.com/github/Ria-K912/QML-HEP-Tasks/blob/main/task1.ipynb\" target=\"_parent\"><img src=\"https://colab.research.google.com/assets/colab-badge.svg\" alt=\"Open In Colab\"/></a>"
      ]
    },
    {
      "cell_type": "code",
      "source": [
        "!pip install pennylane"
      ],
      "metadata": {
        "colab": {
          "base_uri": "https://localhost:8080/"
        },
        "id": "z-x9vNyFqcLj",
        "outputId": "0b9f92fe-ffc1-4dcd-bb41-7e8fcd1db31f"
      },
      "execution_count": 2,
      "outputs": [
        {
          "output_type": "stream",
          "name": "stdout",
          "text": [
            "Collecting pennylane\n",
            "  Downloading PennyLane-0.40.0-py3-none-any.whl.metadata (10 kB)\n",
            "Requirement already satisfied: numpy<2.1 in /usr/local/lib/python3.11/dist-packages (from pennylane) (1.26.4)\n",
            "Requirement already satisfied: scipy in /usr/local/lib/python3.11/dist-packages (from pennylane) (1.14.1)\n",
            "Requirement already satisfied: networkx in /usr/local/lib/python3.11/dist-packages (from pennylane) (3.4.2)\n",
            "Collecting rustworkx>=0.14.0 (from pennylane)\n",
            "  Downloading rustworkx-0.16.0-cp39-abi3-manylinux_2_17_x86_64.manylinux2014_x86_64.whl.metadata (10 kB)\n",
            "Requirement already satisfied: autograd in /usr/local/lib/python3.11/dist-packages (from pennylane) (1.7.0)\n",
            "Collecting tomlkit (from pennylane)\n",
            "  Downloading tomlkit-0.13.2-py3-none-any.whl.metadata (2.7 kB)\n",
            "Collecting appdirs (from pennylane)\n",
            "  Downloading appdirs-1.4.4-py2.py3-none-any.whl.metadata (9.0 kB)\n",
            "Collecting autoray>=0.6.11 (from pennylane)\n",
            "  Downloading autoray-0.7.0-py3-none-any.whl.metadata (5.8 kB)\n",
            "Requirement already satisfied: cachetools in /usr/local/lib/python3.11/dist-packages (from pennylane) (5.5.2)\n",
            "Collecting pennylane-lightning>=0.40 (from pennylane)\n",
            "  Downloading PennyLane_Lightning-0.40.0-cp311-cp311-manylinux_2_28_x86_64.whl.metadata (27 kB)\n",
            "Requirement already satisfied: requests in /usr/local/lib/python3.11/dist-packages (from pennylane) (2.32.3)\n",
            "Requirement already satisfied: typing-extensions in /usr/local/lib/python3.11/dist-packages (from pennylane) (4.12.2)\n",
            "Requirement already satisfied: packaging in /usr/local/lib/python3.11/dist-packages (from pennylane) (24.2)\n",
            "Collecting diastatic-malt (from pennylane)\n",
            "  Downloading diastatic_malt-2.15.2-py3-none-any.whl.metadata (2.6 kB)\n",
            "Collecting scipy-openblas32>=0.3.26 (from pennylane-lightning>=0.40->pennylane)\n",
            "  Downloading scipy_openblas32-0.3.29.0.0-py3-none-manylinux_2_17_x86_64.manylinux2014_x86_64.whl.metadata (56 kB)\n",
            "\u001b[2K     \u001b[90m━━━━━━━━━━━━━━━━━━━━━━━━━━━━━━━━━━━━━━━━\u001b[0m \u001b[32m56.1/56.1 kB\u001b[0m \u001b[31m2.3 MB/s\u001b[0m eta \u001b[36m0:00:00\u001b[0m\n",
            "\u001b[?25hRequirement already satisfied: astunparse in /usr/local/lib/python3.11/dist-packages (from diastatic-malt->pennylane) (1.6.3)\n",
            "Requirement already satisfied: gast in /usr/local/lib/python3.11/dist-packages (from diastatic-malt->pennylane) (0.6.0)\n",
            "Requirement already satisfied: termcolor in /usr/local/lib/python3.11/dist-packages (from diastatic-malt->pennylane) (2.5.0)\n",
            "Requirement already satisfied: charset-normalizer<4,>=2 in /usr/local/lib/python3.11/dist-packages (from requests->pennylane) (3.4.1)\n",
            "Requirement already satisfied: idna<4,>=2.5 in /usr/local/lib/python3.11/dist-packages (from requests->pennylane) (3.10)\n",
            "Requirement already satisfied: urllib3<3,>=1.21.1 in /usr/local/lib/python3.11/dist-packages (from requests->pennylane) (2.3.0)\n",
            "Requirement already satisfied: certifi>=2017.4.17 in /usr/local/lib/python3.11/dist-packages (from requests->pennylane) (2025.1.31)\n",
            "Requirement already satisfied: wheel<1.0,>=0.23.0 in /usr/local/lib/python3.11/dist-packages (from astunparse->diastatic-malt->pennylane) (0.45.1)\n",
            "Requirement already satisfied: six<2.0,>=1.6.1 in /usr/local/lib/python3.11/dist-packages (from astunparse->diastatic-malt->pennylane) (1.17.0)\n",
            "Downloading PennyLane-0.40.0-py3-none-any.whl (2.0 MB)\n",
            "\u001b[2K   \u001b[90m━━━━━━━━━━━━━━━━━━━━━━━━━━━━━━━━━━━━━━━━\u001b[0m \u001b[32m2.0/2.0 MB\u001b[0m \u001b[31m27.7 MB/s\u001b[0m eta \u001b[36m0:00:00\u001b[0m\n",
            "\u001b[?25hDownloading autoray-0.7.0-py3-none-any.whl (930 kB)\n",
            "\u001b[2K   \u001b[90m━━━━━━━━━━━━━━━━━━━━━━━━━━━━━━━━━━━━━━━━\u001b[0m \u001b[32m930.0/930.0 kB\u001b[0m \u001b[31m28.9 MB/s\u001b[0m eta \u001b[36m0:00:00\u001b[0m\n",
            "\u001b[?25hDownloading PennyLane_Lightning-0.40.0-cp311-cp311-manylinux_2_28_x86_64.whl (2.4 MB)\n",
            "\u001b[2K   \u001b[90m━━━━━━━━━━━━━━━━━━━━━━━━━━━━━━━━━━━━━━━━\u001b[0m \u001b[32m2.4/2.4 MB\u001b[0m \u001b[31m62.5 MB/s\u001b[0m eta \u001b[36m0:00:00\u001b[0m\n",
            "\u001b[?25hDownloading rustworkx-0.16.0-cp39-abi3-manylinux_2_17_x86_64.manylinux2014_x86_64.whl (2.1 MB)\n",
            "\u001b[2K   \u001b[90m━━━━━━━━━━━━━━━━━━━━━━━━━━━━━━━━━━━━━━━━\u001b[0m \u001b[32m2.1/2.1 MB\u001b[0m \u001b[31m48.5 MB/s\u001b[0m eta \u001b[36m0:00:00\u001b[0m\n",
            "\u001b[?25hDownloading appdirs-1.4.4-py2.py3-none-any.whl (9.6 kB)\n",
            "Downloading diastatic_malt-2.15.2-py3-none-any.whl (167 kB)\n",
            "\u001b[2K   \u001b[90m━━━━━━━━━━━━━━━━━━━━━━━━━━━━━━━━━━━━━━━━\u001b[0m \u001b[32m167.9/167.9 kB\u001b[0m \u001b[31m11.7 MB/s\u001b[0m eta \u001b[36m0:00:00\u001b[0m\n",
            "\u001b[?25hDownloading tomlkit-0.13.2-py3-none-any.whl (37 kB)\n",
            "Downloading scipy_openblas32-0.3.29.0.0-py3-none-manylinux_2_17_x86_64.manylinux2014_x86_64.whl (8.6 MB)\n",
            "\u001b[2K   \u001b[90m━━━━━━━━━━━━━━━━━━━━━━━━━━━━━━━━━━━━━━━━\u001b[0m \u001b[32m8.6/8.6 MB\u001b[0m \u001b[31m80.0 MB/s\u001b[0m eta \u001b[36m0:00:00\u001b[0m\n",
            "\u001b[?25hInstalling collected packages: appdirs, tomlkit, scipy-openblas32, rustworkx, autoray, diastatic-malt, pennylane-lightning, pennylane\n",
            "Successfully installed appdirs-1.4.4 autoray-0.7.0 diastatic-malt-2.15.2 pennylane-0.40.0 pennylane-lightning-0.40.0 rustworkx-0.16.0 scipy-openblas32-0.3.29.0.0 tomlkit-0.13.2\n"
          ]
        }
      ]
    },
    {
      "cell_type": "code",
      "execution_count": 3,
      "metadata": {
        "id": "mWY1TvYZqX0m"
      },
      "outputs": [],
      "source": [
        "import pennylane as qml\n",
        "from pennylane import numpy as np\n",
        "import matplotlib.pyplot as plt"
      ]
    },
    {
      "cell_type": "markdown",
      "source": [
        "1) implement a simple quantum operation with Cirq or Pennylane  \n",
        "\n",
        "a) With 5 qubits   \n",
        "\n",
        "b) Apply Hadamard operation on every qubit   \n",
        "\n",
        "c) Apply CNOT operation on (0, 1), (1,2), (2,3), (3,4)   \n",
        "\n",
        "d) SWAP (0, 4)   \n",
        "\n",
        "e) Rotate X with pi/2 on any qubit   \n",
        "\n",
        "f) Plot the circuit\n"
      ],
      "metadata": {
        "id": "HsrIFG0Vqi8K"
      }
    },
    {
      "cell_type": "code",
      "execution_count": 4,
      "metadata": {
        "colab": {
          "base_uri": "https://localhost:8080/"
        },
        "id": "dkN-1wx8qX0n",
        "outputId": "18c1dffb-7c50-4396-fa26-446fbbaa35ba"
      },
      "outputs": [
        {
          "output_type": "stream",
          "name": "stdout",
          "text": [
            "Quantum Circuit 1:\n",
            "0: ──H─╭●──────────╭SWAP───────────┤  State\n",
            "1: ──H─╰X─╭●───────│───────────────┤  State\n",
            "2: ──H────╰X─╭●────│──────RX(1.57)─┤  State\n",
            "3: ──H───────╰X─╭●─│───────────────┤  State\n",
            "4: ──H──────────╰X─╰SWAP───────────┤  State\n"
          ]
        }
      ],
      "source": [
        "\n",
        "dev1 = qml.device(\"default.qubit\", wires=5)\n",
        "\n",
        "@qml.qnode(dev1)\n",
        "def quantum_circuit1():\n",
        "    # Hadamard to all qubits\n",
        "    for i in range(5):\n",
        "        qml.Hadamard(wires=i)\n",
        "\n",
        "    # CNOT operations\n",
        "    qml.CNOT(wires=[0, 1])\n",
        "    qml.CNOT(wires=[1, 2])\n",
        "    qml.CNOT(wires=[2, 3])\n",
        "    qml.CNOT(wires=[3, 4])\n",
        "\n",
        "    # SWAP (0, 4)\n",
        "    qml.SWAP(wires=[0, 4])\n",
        "\n",
        "    # Rotate X with pi/2 on qubit 2\n",
        "    qml.RX(np.pi / 2, wires=2)\n",
        "\n",
        "    return qml.state()\n",
        "\n",
        "print(\"Quantum Circuit 1:\")\n",
        "print(qml.draw(quantum_circuit1)())\n",
        "\n"
      ]
    },
    {
      "cell_type": "markdown",
      "source": [
        "2) Implement a second circuit with a framework of your choice:  \n",
        "\n",
        "a) Apply a Hadmard gate to the first qubit  \n",
        "\n",
        "b) rotate the second qubit by pi/3 around X  \n",
        "\n",
        "c) Apply Hadamard gate to the third and fourth qubit  \n",
        "\n",
        "d) Perform a swap test between the states of the first and second qubit |q1 q2> and the third and fourth qubit |q3 q4>\n",
        "\n"
      ],
      "metadata": {
        "id": "dOxjG5vsrWU6"
      }
    },
    {
      "cell_type": "code",
      "execution_count": null,
      "metadata": {
        "id": "o8EawuOcqX0n",
        "outputId": "6b00ac05-79c8-4844-cc0e-137dcd4d89e6"
      },
      "outputs": [
        {
          "name": "stdout",
          "output_type": "stream",
          "text": [
            "\n",
            "Quantum Circuit 2 (Corrected Swap Test):\n",
            "0: ──H────────╭●────╭●─────H─┤  Probs\n",
            "1: ──H────────├SWAP─│────────┤       \n",
            "2: ──RX(1.05)─│─────├SWAP────┤       \n",
            "3: ──H────────╰SWAP─│────────┤       \n",
            "4: ──H──────────────╰SWAP────┤       \n"
          ]
        },
        {
          "data": {
            "image/png": "[encoded data removed]",
            "text/plain": [
              "<Figure size 700x600 with 1 Axes>"
            ]
          },
          "metadata": {},
          "output_type": "display_data"
        },
        {
          "name": "stdout",
          "output_type": "stream",
          "text": [
            "Probability of measuring |0> (similar states): 0.7500\n",
            "Probability of measuring |1> (different states): 0.2500\n"
          ]
        }
      ],
      "source": [
        "# 1 auxiliary + 4 main qubits\n",
        "dev2 = qml.device(\"default.qubit\", wires=5)\n",
        "\n",
        "@qml.qnode(dev2)\n",
        "def quantum_circuit2():\n",
        "    \"\"\"Quantum circuit with a correct swap test between |q1 q2> and |q3 q4>\"\"\"\n",
        "\n",
        "    aux = 0  # auxiliary qubit\n",
        "    q1, q2, q3, q4 = 1, 2, 3, 4  # Data qubits\n",
        "\n",
        "    qml.Hadamard(wires=q1)  # Hadamard to q1\n",
        "    qml.RX(np.pi / 3, wires=q2)  # Rotate q2 by pi/3 around X\n",
        "    qml.Hadamard(wires=q3)  # Hadamard to q3\n",
        "    qml.Hadamard(wires=q4)  # Hadamard to q4\n",
        "\n",
        "    qml.Hadamard(wires=aux)\n",
        "\n",
        "    qml.CSWAP(wires=[aux, q1, q3])  # Swap q1 <-> q3 if aux is |1>\n",
        "    qml.CSWAP(wires=[aux, q2, q4])  # Swap q2 <-> q4 if aux is |1>\n",
        "\n",
        "    qml.Hadamard(wires=aux)\n",
        "\n",
        "    return qml.probs(wires=[aux])\n",
        "\n",
        "print(\"\\nQuantum Circuit 2 (Corrected Swap Test):\")\n",
        "print(qml.draw(quantum_circuit2)())\n",
        "\n",
        "fig, ax = qml.draw_mpl(quantum_circuit2)()\n",
        "plt.title(\"Corrected Swap Test Circuit\")\n",
        "plt.show()\n",
        "\n",
        "probs = quantum_circuit2()\n",
        "print(f\"Probability of measuring |0> (similar states): {probs[0]:.4f}\")\n",
        "print(f\"Probability of measuring |1> (different states): {probs[1]:.4f}\")\n"
      ]
    }
  ],
  "metadata": {
    "kernelspec": {
      "display_name": "Python 3",
      "language": "python",
      "name": "python3"
    },
    "language_info": {
      "codemirror_mode": {
        "name": "ipython",
        "version": 3
      },
      "file_extension": ".py",
      "mimetype": "text/x-python",
      "name": "python",
      "nbconvert_exporter": "python",
      "pygments_lexer": "ipython3",
      "version": "3.11.4"
    },
    "colab": {
      "provenance": [],
      "include_colab_link": true
    }
  },
  "nbformat": 4,
  "nbformat_minor": 0
}