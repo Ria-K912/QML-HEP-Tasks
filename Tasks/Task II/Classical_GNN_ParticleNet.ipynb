{
  "cells": [
    {
      "cell_type": "code",
      "source": [
        "!pip install energyflow"
      ],
      "metadata": {
        "colab": {
          "base_uri": "https://localhost:8080/"
        },
        "id": "FHKZQGy_Ch65",
        "outputId": "b833c763-2144-4cd9-b70e-39ef7b88d18e"
      },
      "execution_count": 6,
      "outputs": [
        {
          "output_type": "stream",
          "name": "stdout",
          "text": [
            "Collecting energyflow\n",
            "  Downloading energyflow-1.4.0-py3-none-any.whl.metadata (5.6 kB)\n",
            "Requirement already satisfied: h5py!=3.11.0,>=2.9.0 in /usr/local/lib/python3.11/dist-packages (from energyflow) (3.12.1)\n",
            "Requirement already satisfied: numpy>=1.17.0 in /usr/local/lib/python3.11/dist-packages (from energyflow) (1.26.4)\n",
            "Collecting wasserstein>=1.0.1 (from energyflow)\n",
            "  Downloading wasserstein-1.1.0-cp311-cp311-manylinux_2_17_x86_64.manylinux2014_x86_64.whl.metadata (3.0 kB)\n",
            "Collecting wurlitzer>=2.0.0 (from wasserstein>=1.0.1->energyflow)\n",
            "  Downloading wurlitzer-3.1.1-py3-none-any.whl.metadata (2.5 kB)\n",
            "Downloading energyflow-1.4.0-py3-none-any.whl (700 kB)\n",
            "\u001b[2K   \u001b[90m━━━━━━━━━━━━━━━━━━━━━━━━━━━━━━━━━━━━━━━━\u001b[0m \u001b[32m700.8/700.8 kB\u001b[0m \u001b[31m42.1 MB/s\u001b[0m eta \u001b[36m0:00:00\u001b[0m\n",
            "\u001b[?25hDownloading wasserstein-1.1.0-cp311-cp311-manylinux_2_17_x86_64.manylinux2014_x86_64.whl (502 kB)\n",
            "\u001b[2K   \u001b[90m━━━━━━━━━━━━━━━━━━━━━━━━━━━━━━━━━━━━━━━━\u001b[0m \u001b[32m502.2/502.2 kB\u001b[0m \u001b[31m41.7 MB/s\u001b[0m eta \u001b[36m0:00:00\u001b[0m\n",
            "\u001b[?25hDownloading wurlitzer-3.1.1-py3-none-any.whl (8.6 kB)\n",
            "Installing collected packages: wurlitzer, wasserstein, energyflow\n",
            "Successfully installed energyflow-1.4.0 wasserstein-1.1.0 wurlitzer-3.1.1\n"
          ]
        }
      ]
    },
    {
      "cell_type": "code",
      "source": [
        "!pip install torch-geometric"
      ],
      "metadata": {
        "colab": {
          "base_uri": "https://localhost:8080/"
        },
        "id": "1fgGiyGFyD63",
        "outputId": "c081385d-1eef-49d2-f509-afb91de68461"
      },
      "execution_count": 3,
      "outputs": [
        {
          "output_type": "stream",
          "name": "stdout",
          "text": [
            "Collecting torch-geometric\n",
            "  Downloading torch_geometric-2.6.1-py3-none-any.whl.metadata (63 kB)\n",
            "\u001b[?25l     \u001b[90m━━━━━━━━━━━━━━━━━━━━━━━━━━━━━━━━━━━━━━━━\u001b[0m \u001b[32m0.0/63.1 kB\u001b[0m \u001b[31m?\u001b[0m eta \u001b[36m-:--:--\u001b[0m\r\u001b[2K     \u001b[90m━━━━━━━━━━━━━━━━━━━━━━━━━━━━━━━━━━━━━━━━\u001b[0m \u001b[32m63.1/63.1 kB\u001b[0m \u001b[31m5.0 MB/s\u001b[0m eta \u001b[36m0:00:00\u001b[0m\n",
            "\u001b[?25hRequirement already satisfied: aiohttp in /usr/local/lib/python3.11/dist-packages (from torch-geometric) (3.11.13)\n",
            "Requirement already satisfied: fsspec in /usr/local/lib/python3.11/dist-packages (from torch-geometric) (2024.10.0)\n",
            "Requirement already satisfied: jinja2 in /usr/local/lib/python3.11/dist-packages (from torch-geometric) (3.1.6)\n",
            "Requirement already satisfied: numpy in /usr/local/lib/python3.11/dist-packages (from torch-geometric) (1.26.4)\n",
            "Requirement already satisfied: psutil>=5.8.0 in /usr/local/lib/python3.11/dist-packages (from torch-geometric) (5.9.5)\n",
            "Requirement already satisfied: pyparsing in /usr/local/lib/python3.11/dist-packages (from torch-geometric) (3.2.1)\n",
            "Requirement already satisfied: requests in /usr/local/lib/python3.11/dist-packages (from torch-geometric) (2.32.3)\n",
            "Requirement already satisfied: tqdm in /usr/local/lib/python3.11/dist-packages (from torch-geometric) (4.67.1)\n",
            "Requirement already satisfied: aiohappyeyeballs>=2.3.0 in /usr/local/lib/python3.11/dist-packages (from aiohttp->torch-geometric) (2.5.0)\n",
            "Requirement already satisfied: aiosignal>=1.1.2 in /usr/local/lib/python3.11/dist-packages (from aiohttp->torch-geometric) (1.3.2)\n",
            "Requirement already satisfied: attrs>=17.3.0 in /usr/local/lib/python3.11/dist-packages (from aiohttp->torch-geometric) (25.1.0)\n",
            "Requirement already satisfied: frozenlist>=1.1.1 in /usr/local/lib/python3.11/dist-packages (from aiohttp->torch-geometric) (1.5.0)\n",
            "Requirement already satisfied: multidict<7.0,>=4.5 in /usr/local/lib/python3.11/dist-packages (from aiohttp->torch-geometric) (6.1.0)\n",
            "Requirement already satisfied: propcache>=0.2.0 in /usr/local/lib/python3.11/dist-packages (from aiohttp->torch-geometric) (0.3.0)\n",
            "Requirement already satisfied: yarl<2.0,>=1.17.0 in /usr/local/lib/python3.11/dist-packages (from aiohttp->torch-geometric) (1.18.3)\n",
            "Requirement already satisfied: MarkupSafe>=2.0 in /usr/local/lib/python3.11/dist-packages (from jinja2->torch-geometric) (3.0.2)\n",
            "Requirement already satisfied: charset-normalizer<4,>=2 in /usr/local/lib/python3.11/dist-packages (from requests->torch-geometric) (3.4.1)\n",
            "Requirement already satisfied: idna<4,>=2.5 in /usr/local/lib/python3.11/dist-packages (from requests->torch-geometric) (3.10)\n",
            "Requirement already satisfied: urllib3<3,>=1.21.1 in /usr/local/lib/python3.11/dist-packages (from requests->torch-geometric) (2.3.0)\n",
            "Requirement already satisfied: certifi>=2017.4.17 in /usr/local/lib/python3.11/dist-packages (from requests->torch-geometric) (2025.1.31)\n",
            "Downloading torch_geometric-2.6.1-py3-none-any.whl (1.1 MB)\n",
            "\u001b[?25l   \u001b[90m━━━━━━━━━━━━━━━━━━━━━━━━━━━━━━━━━━━━━━━━\u001b[0m \u001b[32m0.0/1.1 MB\u001b[0m \u001b[31m?\u001b[0m eta \u001b[36m-:--:--\u001b[0m\r\u001b[2K   \u001b[90m━━━━━━━━━━━━━━━━━━━━━━━━━━━━━━━━━━━━━━━━\u001b[0m \u001b[32m1.1/1.1 MB\u001b[0m \u001b[31m55.6 MB/s\u001b[0m eta \u001b[36m0:00:00\u001b[0m\n",
            "\u001b[?25hInstalling collected packages: torch-geometric\n",
            "Successfully installed torch-geometric-2.6.1\n"
          ]
        }
      ]
    },
    {
      "cell_type": "code",
      "source": [
        "!pip install torch-cluster"
      ],
      "metadata": {
        "colab": {
          "base_uri": "https://localhost:8080/"
        },
        "id": "zlrodFxdyUqy",
        "outputId": "2ee97350-f401-4916-da4f-38891c860225"
      },
      "execution_count": 1,
      "outputs": [
        {
          "output_type": "stream",
          "name": "stdout",
          "text": [
            "Collecting torch-cluster\n",
            "  Downloading torch_cluster-1.6.3.tar.gz (54 kB)\n",
            "\u001b[?25l     \u001b[90m━━━━━━━━━━━━━━━━━━━━━━━━━━━━━━━━━━━━━━━━\u001b[0m \u001b[32m0.0/54.5 kB\u001b[0m \u001b[31m?\u001b[0m eta \u001b[36m-:--:--\u001b[0m\r\u001b[2K     \u001b[90m━━━━━━━━━━━━━━━━━━━━━━━━━━━━━━━━━━━━━━━━\u001b[0m \u001b[32m54.5/54.5 kB\u001b[0m \u001b[31m3.4 MB/s\u001b[0m eta \u001b[36m0:00:00\u001b[0m\n",
            "\u001b[?25h  Preparing metadata (setup.py) ... \u001b[?25l\u001b[?25hdone\n",
            "Requirement already satisfied: scipy in /usr/local/lib/python3.11/dist-packages (from torch-cluster) (1.14.1)\n",
            "Requirement already satisfied: numpy<2.3,>=1.23.5 in /usr/local/lib/python3.11/dist-packages (from scipy->torch-cluster) (1.26.4)\n",
            "Building wheels for collected packages: torch-cluster\n",
            "  Building wheel for torch-cluster (setup.py) ... \u001b[?25l\u001b[?25hdone\n",
            "  Created wheel for torch-cluster: filename=torch_cluster-1.6.3-cp311-cp311-linux_x86_64.whl size=2065944 sha256=d37f877b4b6c58de782717029a3e94a67d1d110cae73ea52b6961f50183f75c0\n",
            "  Stored in directory: /root/.cache/pip/wheels/ef/de/7d/a4211822af99147b93800e9e204f0be21294e3c0b95b3b861a\n",
            "Successfully built torch-cluster\n",
            "Installing collected packages: torch-cluster\n",
            "Successfully installed torch-cluster-1.6.3\n"
          ]
        }
      ]
    },
    {
      "cell_type": "code",
      "source": [
        "import torch\n",
        "import torch.nn as nn\n",
        "import torch.nn.functional as F\n",
        "import torch.optim as optim\n",
        "import numpy as np\n",
        "import tqdm\n",
        "from torch_geometric.nn import EdgeConv, global_mean_pool\n",
        "from torch_cluster import knn_graph\n",
        "from torch_geometric.data import Data, DataLoader\n",
        "import energyflow\n",
        "from sklearn.model_selection import train_test_split\n",
        "from sklearn.metrics import roc_curve, auc, accuracy_score, confusion_matrix\n",
        "import seaborn as sns\n",
        "import matplotlib.pyplot as plt\n",
        "import os\n"
      ],
      "metadata": {
        "id": "j1Gs8e0NxK5U"
      },
      "execution_count": 7,
      "outputs": []
    },
    {
      "cell_type": "code",
      "source": [
        "device = 'cuda' if torch.cuda.is_available() else 'cpu'\n",
        "print(f\"Using device: {device}\")"
      ],
      "metadata": {
        "colab": {
          "base_uri": "https://localhost:8080/"
        },
        "id": "SLDosZKXx6u6",
        "outputId": "2230dd97-446f-4132-e3da-494da09cd537"
      },
      "execution_count": 8,
      "outputs": [
        {
          "output_type": "stream",
          "name": "stdout",
          "text": [
            "Using device: cuda\n"
          ]
        }
      ]
    },
    {
      "cell_type": "code",
      "source": [
        "qg_dataset = energyflow.qg_jets.load(num_data=50000, pad=True, ncol=4, generator='pythia')\n",
        "x = qg_dataset[0]\n",
        "y = torch.tensor(qg_dataset[1], dtype=torch.long)  # Labels: 0 (Gluon), 1 (Quark)"
      ],
      "metadata": {
        "colab": {
          "base_uri": "https://localhost:8080/"
        },
        "id": "QyGmfzw3yBbc",
        "outputId": "7bd8e0d3-6917-4c21-fe10-d48d1f9450a9"
      },
      "execution_count": 9,
      "outputs": [
        {
          "output_type": "stream",
          "name": "stdout",
          "text": [
            "Downloading QG_jets.npz from https://zenodo.org/record/3164691/files/QG_jets.npz?download=1 to /root/.energyflow/datasets\n"
          ]
        }
      ]
    },
    {
      "cell_type": "code",
      "source": [
        "features_to_consider = [0, 1, 2, 3]  # (pT, rapidity, azimuthal angle, energy)\n",
        "x = x[:, :, features_to_consider]"
      ],
      "metadata": {
        "id": "1hWMrNXxyOIs"
      },
      "execution_count": 10,
      "outputs": []
    },
    {
      "cell_type": "code",
      "source": [
        "# Convert to PyG Data Format\n",
        "jet_dataset = []\n",
        "for i in range(len(x)):\n",
        "    jet_dataset.append(Data(x=torch.tensor(x[i], dtype=torch.float), y=y[i]))"
      ],
      "metadata": {
        "id": "AZ2jONHVyQWo"
      },
      "execution_count": 11,
      "outputs": []
    },
    {
      "cell_type": "code",
      "source": [
        "train_data, val_data = train_test_split(jet_dataset, test_size=0.1, random_state=42)\n",
        "train_loader = DataLoader(train_data, batch_size=128, shuffle=True)\n",
        "val_loader = DataLoader(val_data, batch_size=128, shuffle=False)"
      ],
      "metadata": {
        "colab": {
          "base_uri": "https://localhost:8080/"
        },
        "id": "sQtLeMk3yQ-b",
        "outputId": "5cad8f1e-001c-4004-be96-4b92fc69c632"
      },
      "execution_count": 12,
      "outputs": [
        {
          "output_type": "stream",
          "name": "stderr",
          "text": [
            "/usr/local/lib/python3.11/dist-packages/torch_geometric/deprecation.py:26: UserWarning: 'data.DataLoader' is deprecated, use 'loader.DataLoader' instead\n",
            "  warnings.warn(out)\n"
          ]
        }
      ]
    },
    {
      "cell_type": "code",
      "source": [
        "class ParticleNetEdgeNet(nn.Module):\n",
        "    def __init__(self, in_size, layer_size):\n",
        "        super(ParticleNetEdgeNet, self).__init__()\n",
        "        layers = [nn.Linear(in_size * 2, layer_size), nn.BatchNorm1d(layer_size), nn.ReLU()]\n",
        "        for _ in range(2):\n",
        "            layers.extend([nn.Linear(layer_size, layer_size), nn.BatchNorm1d(layer_size), nn.ReLU()])\n",
        "        self.model = nn.Sequential(*layers)\n",
        "    def forward(self, x):\n",
        "        return self.model(x)\n",
        "\n",
        "\n",
        "class ParticleNet(nn.Module):\n",
        "    def __init__(self, node_feat_size, num_classes=2, k=16, num_edge_convs=3, layer_sizes=[64, 128, 256]):\n",
        "        super(ParticleNet, self).__init__()\n",
        "        self.k = k\n",
        "        self.edge_nets = nn.ModuleList()\n",
        "        self.edge_convs = nn.ModuleList()\n",
        "\n",
        "        layer_sizes.insert(0, node_feat_size)\n",
        "        self.output_sizes = np.cumsum(layer_sizes)\n",
        "\n",
        "        self.edge_nets.append(ParticleNetEdgeNet(node_feat_size, layer_sizes[1]))\n",
        "        self.edge_convs.append(EdgeConv(self.edge_nets[-1], aggr=\"mean\"))\n",
        "\n",
        "        for i in range(1, num_edge_convs):\n",
        "            self.edge_nets.append(ParticleNetEdgeNet(self.output_sizes[i], layer_sizes[i + 1]))\n",
        "            self.edge_convs.append(EdgeConv(self.edge_nets[-1], aggr=\"mean\"))\n",
        "\n",
        "        self.fc1 = nn.Linear(self.output_sizes[-1], 256)\n",
        "        self.dropout = nn.Dropout(p=0.1)\n",
        "        self.fc2 = nn.Linear(256, num_classes)\n",
        "\n",
        "    def forward(self, data):\n",
        "        x, batch = data.x, data.batch\n",
        "        for i in range(len(self.edge_convs)):\n",
        "            edge_index = knn_graph(x[:, :2], self.k, batch)\n",
        "            x = torch.cat((self.edge_convs[i](x, edge_index), x), dim=1)\n",
        "        x = global_mean_pool(x, batch)\n",
        "        x = self.fc1(x)\n",
        "        return self.fc2(x)"
      ],
      "metadata": {
        "id": "9p24sbSVyncL"
      },
      "execution_count": null,
      "outputs": []
    },
    {
      "cell_type": "code",
      "source": [
        "\n",
        "model = ParticleNet(node_feat_size=len(features_to_consider), num_classes=2).to(device)\n",
        "optimizer = optim.Adam(model.parameters(), lr=0.001)\n",
        "loss_fn = nn.CrossEntropyLoss()\n",
        "model_path = \"particle_net_weights.pth\"\n",
        "\n",
        "def train_test_one_epoch(model, data_loader, mode='train'):\n",
        "    model.train(mode == 'train')\n",
        "    running_loss, running_correct = 0.0, 0\n",
        "    t = tqdm.tqdm(data_loader)\n",
        "    for data in t:\n",
        "        data = data.to(device)\n",
        "        optimizer.zero_grad()\n",
        "        outputs = model(data)\n",
        "        loss = loss_fn(outputs, data.y)\n",
        "        if mode == 'train':\n",
        "            loss.backward()\n",
        "            optimizer.step()\n",
        "        running_loss += loss.item()\n",
        "        _, predicted = torch.max(outputs, dim=1)\n",
        "        running_correct += torch.sum(predicted == data.y).item()\n",
        "    epoch_loss = running_loss / len(data_loader)\n",
        "    epoch_acc = running_correct / len(data_loader.dataset)\n",
        "    return epoch_loss, epoch_acc\n",
        "\n",
        "if not os.path.exists(model_path):\n",
        "    EPOCHS = 10\n",
        "    for epoch in range(EPOCHS):\n",
        "        print(f' Epoch {epoch+1}/{EPOCHS}')\n",
        "        train_loss, train_acc = train_test_one_epoch(model, train_loader, mode='train')\n",
        "        val_loss, val_acc = train_test_one_epoch(model, val_loader, mode='test')\n",
        "        print(f'Train Loss: {train_loss:.4f}, Train Acc: {train_acc:.4f}')\n",
        "        print(f'Val Loss: {val_loss:.4f}, Val Acc: {val_acc:.4f}')\n",
        "    torch.save(model.state_dict(), model_path)  # Save trained model weights\n",
        "else:\n",
        "    model.load_state_dict(torch.load(model_path))  # Load saved model weights\n",
        "    print(\"Loaded pre-trained model.\")\n",
        "\n",
        "\n",
        "def evaluate_model(model, val_loader):\n",
        "    y_true, y_pred, y_prob = [], [], []\n",
        "    model.eval()\n",
        "    with torch.no_grad():\n",
        "        for data in val_loader:\n",
        "            data = data.to(device)\n",
        "            outputs = model(data)\n",
        "            probs = F.softmax(outputs, dim=1)\n",
        "            preds = torch.argmax(probs, dim=1)\n",
        "            y_true.extend(data.y.cpu().numpy())\n",
        "            y_pred.extend(preds.cpu().numpy())\n",
        "            y_prob.extend(probs[:, 1].cpu().numpy())  # Probability of being quark\n",
        "    return np.array(y_true), np.array(y_pred), np.array(y_prob)\n",
        "\n",
        "y_true, y_pred, y_prob = evaluate_model(model, val_loader)\n",
        "\n",
        "\n"
      ],
      "metadata": {
        "colab": {
          "base_uri": "https://localhost:8080/"
        },
        "id": "6e5o4EpILebi",
        "outputId": "857ffe9e-7500-4d44-a8cc-a71577af6f3f"
      },
      "execution_count": null,
      "outputs": [
        {
          "output_type": "stream",
          "name": "stdout",
          "text": [
            "Using device: cuda\n"
          ]
        },
        {
          "output_type": "stream",
          "name": "stderr",
          "text": [
            "/usr/local/lib/python3.11/dist-packages/torch_geometric/deprecation.py:26: UserWarning: 'data.DataLoader' is deprecated, use 'loader.DataLoader' instead\n",
            "  warnings.warn(out)\n"
          ]
        },
        {
          "output_type": "stream",
          "name": "stdout",
          "text": [
            " Epoch 1/10\n"
          ]
        },
        {
          "output_type": "stream",
          "name": "stderr",
          "text": [
            "100%|██████████| 352/352 [01:41<00:00,  3.48it/s]\n",
            "100%|██████████| 40/40 [00:04<00:00,  9.18it/s]\n"
          ]
        },
        {
          "output_type": "stream",
          "name": "stdout",
          "text": [
            "Train Loss: 0.4960, Train Acc: 0.7670\n",
            "Val Loss: 0.4700, Val Acc: 0.7860\n",
            " Epoch 2/10\n"
          ]
        },
        {
          "output_type": "stream",
          "name": "stderr",
          "text": [
            "100%|██████████| 352/352 [01:40<00:00,  3.49it/s]\n",
            "100%|██████████| 40/40 [00:04<00:00,  9.16it/s]\n"
          ]
        },
        {
          "output_type": "stream",
          "name": "stdout",
          "text": [
            "Train Loss: 0.4816, Train Acc: 0.7772\n",
            "Val Loss: 0.4908, Val Acc: 0.7836\n",
            " Epoch 3/10\n"
          ]
        },
        {
          "output_type": "stream",
          "name": "stderr",
          "text": [
            "100%|██████████| 352/352 [01:41<00:00,  3.48it/s]\n",
            "100%|██████████| 40/40 [00:04<00:00,  9.25it/s]\n"
          ]
        },
        {
          "output_type": "stream",
          "name": "stdout",
          "text": [
            "Train Loss: 0.4797, Train Acc: 0.7792\n",
            "Val Loss: 0.4705, Val Acc: 0.7932\n",
            " Epoch 4/10\n"
          ]
        },
        {
          "output_type": "stream",
          "name": "stderr",
          "text": [
            "100%|██████████| 352/352 [01:41<00:00,  3.48it/s]\n",
            "100%|██████████| 40/40 [00:04<00:00,  9.21it/s]\n"
          ]
        },
        {
          "output_type": "stream",
          "name": "stdout",
          "text": [
            "Train Loss: 0.4783, Train Acc: 0.7790\n",
            "Val Loss: 0.4657, Val Acc: 0.7854\n",
            " Epoch 5/10\n"
          ]
        },
        {
          "output_type": "stream",
          "name": "stderr",
          "text": [
            "100%|██████████| 352/352 [01:41<00:00,  3.47it/s]\n",
            "100%|██████████| 40/40 [00:04<00:00,  9.15it/s]\n"
          ]
        },
        {
          "output_type": "stream",
          "name": "stdout",
          "text": [
            "Train Loss: 0.4754, Train Acc: 0.7828\n",
            "Val Loss: 0.4676, Val Acc: 0.7864\n",
            " Epoch 6/10\n"
          ]
        },
        {
          "output_type": "stream",
          "name": "stderr",
          "text": [
            "100%|██████████| 352/352 [01:41<00:00,  3.47it/s]\n",
            "100%|██████████| 40/40 [00:04<00:00,  9.19it/s]\n"
          ]
        },
        {
          "output_type": "stream",
          "name": "stdout",
          "text": [
            "Train Loss: 0.4743, Train Acc: 0.7821\n",
            "Val Loss: 0.4804, Val Acc: 0.7876\n",
            " Epoch 7/10\n"
          ]
        },
        {
          "output_type": "stream",
          "name": "stderr",
          "text": [
            "100%|██████████| 352/352 [01:41<00:00,  3.47it/s]\n",
            "100%|██████████| 40/40 [00:04<00:00,  9.18it/s]\n"
          ]
        },
        {
          "output_type": "stream",
          "name": "stdout",
          "text": [
            "Train Loss: 0.4735, Train Acc: 0.7826\n",
            "Val Loss: 0.4739, Val Acc: 0.7920\n",
            " Epoch 8/10\n"
          ]
        },
        {
          "output_type": "stream",
          "name": "stderr",
          "text": [
            "100%|██████████| 352/352 [01:41<00:00,  3.47it/s]\n",
            "100%|██████████| 40/40 [00:04<00:00,  9.17it/s]\n"
          ]
        },
        {
          "output_type": "stream",
          "name": "stdout",
          "text": [
            "Train Loss: 0.4710, Train Acc: 0.7830\n",
            "Val Loss: 0.4732, Val Acc: 0.7762\n",
            " Epoch 9/10\n"
          ]
        },
        {
          "output_type": "stream",
          "name": "stderr",
          "text": [
            "100%|██████████| 352/352 [01:41<00:00,  3.47it/s]\n",
            "100%|██████████| 40/40 [00:04<00:00,  9.12it/s]\n"
          ]
        },
        {
          "output_type": "stream",
          "name": "stdout",
          "text": [
            "Train Loss: 0.4687, Train Acc: 0.7850\n",
            "Val Loss: 0.4813, Val Acc: 0.7870\n",
            " Epoch 10/10\n"
          ]
        },
        {
          "output_type": "stream",
          "name": "stderr",
          "text": [
            "100%|██████████| 352/352 [01:41<00:00,  3.47it/s]\n",
            "100%|██████████| 40/40 [00:04<00:00,  9.07it/s]\n"
          ]
        },
        {
          "output_type": "stream",
          "name": "stdout",
          "text": [
            "Train Loss: 0.4700, Train Acc: 0.7854\n",
            "Val Loss: 0.4628, Val Acc: 0.7916\n"
          ]
        }
      ]
    },
    {
      "cell_type": "code",
      "source": [
        "plt.figure(figsize=(8, 6))\n",
        "for i, label in enumerate([\"Gluon\", \"Quark\"]):\n",
        "    tpr, fpr, _ = roc_curve((y_true == i), y_prob if i == 1 else 1 - y_prob)\n",
        "    auc_score = auc(tpr, fpr)\n",
        "    plt.plot(tpr, fpr, label=f\"{label} AUC: {auc_score:.2f}\")\n",
        "\n",
        "plt.xlabel(\"False Positive Rate (TPR)\")\n",
        "plt.ylabel(\"True Positive Rate (FPR)\")\n",
        "plt.title(\"ROC Curve\")\n",
        "plt.legend()\n",
        "plt.show()\n",
        "\n"
      ],
      "metadata": {
        "colab": {
          "base_uri": "https://localhost:8080/",
          "height": 564
        },
        "id": "c5JXPJg4Ljry",
        "outputId": "64eb13ff-41aa-459f-d5be-bac86b406735"
      },
      "execution_count": null,
      "outputs": [
        {
          "output_type": "display_data",
          "data": {
            "text/plain": [
              "<Figure size 800x600 with 1 Axes>"
            ],
            "image/png": "[encoded data removed]"
          },
          "metadata": {}
        }
      ]
    },
    {
      "cell_type": "code",
      "source": [
        "cm = confusion_matrix(y_true, y_pred)\n",
        "sns.heatmap(cm, annot=True, fmt='d', cmap='Blues', xticklabels=['Gluon', 'Quark'], yticklabels=['Gluon', 'Quark'])\n",
        "plt.xlabel(\"Predicted\")\n",
        "plt.ylabel(\"Actual\")\n",
        "plt.title(\"Confusion Matrix\")\n",
        "plt.show()"
      ],
      "metadata": {
        "colab": {
          "base_uri": "https://localhost:8080/",
          "height": 472
        },
        "id": "p4xwmIJQLm-h",
        "outputId": "2286dffe-e4f7-4f9f-8440-8ec70bc1f6d5"
      },
      "execution_count": null,
      "outputs": [
        {
          "output_type": "display_data",
          "data": {
            "text/plain": [
              "<Figure size 640x480 with 2 Axes>"
            ],
            "image/png": "[encoded data removed]"
          },
          "metadata": {}
        }
      ]
    }
  ],
  "metadata": {
    "colab": {
      "provenance": [],
      "gpuType": "T4"
    },
    "kernelspec": {
      "display_name": "Python 3",
      "name": "python3"
    },
    "language_info": {
      "codemirror_mode": {
        "name": "ipython",
        "version": 3
      },
      "file_extension": ".py",
      "mimetype": "text/x-python",
      "name": "python",
      "nbconvert_exporter": "python",
      "pygments_lexer": "ipython3",
      "version": "3.11.4"
    },
    "accelerator": "GPU"
  },
  "nbformat": 4,
  "nbformat_minor": 0
}