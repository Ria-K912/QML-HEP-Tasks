{
  "cells": [
    {
      "cell_type": "code",
      "execution_count": 1,
      "metadata": {
        "colab": {
          "base_uri": "https://localhost:8080/"
        },
        "id": "-OnSvDwgNOLt",
        "outputId": "92526c0c-1f28-43d8-87b1-aebfec35305a"
      },
      "outputs": [
        {
          "output_type": "stream",
          "name": "stdout",
          "text": [
            "Collecting torch-geometric\n",
            "  Downloading torch_geometric-2.6.1-py3-none-any.whl.metadata (63 kB)\n",
            "\u001b[?25l     \u001b[90m━━━━━━━━━━━━━━━━━━━━━━━━━━━━━━━━━━━━━━━━\u001b[0m \u001b[32m0.0/63.1 kB\u001b[0m \u001b[31m?\u001b[0m eta \u001b[36m-:--:--\u001b[0m\r\u001b[2K     \u001b[90m━━━━━━━━━━━━━━━━━━━━━━━━━━━━━━━━━━━━━━━━\u001b[0m \u001b[32m63.1/63.1 kB\u001b[0m \u001b[31m1.9 MB/s\u001b[0m eta \u001b[36m0:00:00\u001b[0m\n",
            "\u001b[?25hRequirement already satisfied: aiohttp in /usr/local/lib/python3.11/dist-packages (from torch-geometric) (3.11.13)\n",
            "Requirement already satisfied: fsspec in /usr/local/lib/python3.11/dist-packages (from torch-geometric) (2024.10.0)\n",
            "Requirement already satisfied: jinja2 in /usr/local/lib/python3.11/dist-packages (from torch-geometric) (3.1.6)\n",
            "Requirement already satisfied: numpy in /usr/local/lib/python3.11/dist-packages (from torch-geometric) (1.26.4)\n",
            "Requirement already satisfied: psutil>=5.8.0 in /usr/local/lib/python3.11/dist-packages (from torch-geometric) (5.9.5)\n",
            "Requirement already satisfied: pyparsing in /usr/local/lib/python3.11/dist-packages (from torch-geometric) (3.2.1)\n",
            "Requirement already satisfied: requests in /usr/local/lib/python3.11/dist-packages (from torch-geometric) (2.32.3)\n",
            "Requirement already satisfied: tqdm in /usr/local/lib/python3.11/dist-packages (from torch-geometric) (4.67.1)\n",
            "Requirement already satisfied: aiohappyeyeballs>=2.3.0 in /usr/local/lib/python3.11/dist-packages (from aiohttp->torch-geometric) (2.5.0)\n",
            "Requirement already satisfied: aiosignal>=1.1.2 in /usr/local/lib/python3.11/dist-packages (from aiohttp->torch-geometric) (1.3.2)\n",
            "Requirement already satisfied: attrs>=17.3.0 in /usr/local/lib/python3.11/dist-packages (from aiohttp->torch-geometric) (25.1.0)\n",
            "Requirement already satisfied: frozenlist>=1.1.1 in /usr/local/lib/python3.11/dist-packages (from aiohttp->torch-geometric) (1.5.0)\n",
            "Requirement already satisfied: multidict<7.0,>=4.5 in /usr/local/lib/python3.11/dist-packages (from aiohttp->torch-geometric) (6.1.0)\n",
            "Requirement already satisfied: propcache>=0.2.0 in /usr/local/lib/python3.11/dist-packages (from aiohttp->torch-geometric) (0.3.0)\n",
            "Requirement already satisfied: yarl<2.0,>=1.17.0 in /usr/local/lib/python3.11/dist-packages (from aiohttp->torch-geometric) (1.18.3)\n",
            "Requirement already satisfied: MarkupSafe>=2.0 in /usr/local/lib/python3.11/dist-packages (from jinja2->torch-geometric) (3.0.2)\n",
            "Requirement already satisfied: charset-normalizer<4,>=2 in /usr/local/lib/python3.11/dist-packages (from requests->torch-geometric) (3.4.1)\n",
            "Requirement already satisfied: idna<4,>=2.5 in /usr/local/lib/python3.11/dist-packages (from requests->torch-geometric) (3.10)\n",
            "Requirement already satisfied: urllib3<3,>=1.21.1 in /usr/local/lib/python3.11/dist-packages (from requests->torch-geometric) (2.3.0)\n",
            "Requirement already satisfied: certifi>=2017.4.17 in /usr/local/lib/python3.11/dist-packages (from requests->torch-geometric) (2025.1.31)\n",
            "Downloading torch_geometric-2.6.1-py3-none-any.whl (1.1 MB)\n",
            "\u001b[2K   \u001b[90m━━━━━━━━━━━━━━━━━━━━━━━━━━━━━━━━━━━━━━━━\u001b[0m \u001b[32m1.1/1.1 MB\u001b[0m \u001b[31m23.5 MB/s\u001b[0m eta \u001b[36m0:00:00\u001b[0m\n",
            "\u001b[?25hInstalling collected packages: torch-geometric\n",
            "Successfully installed torch-geometric-2.6.1\n",
            "Collecting energyflow\n",
            "  Downloading energyflow-1.4.0-py3-none-any.whl.metadata (5.6 kB)\n",
            "Requirement already satisfied: h5py!=3.11.0,>=2.9.0 in /usr/local/lib/python3.11/dist-packages (from energyflow) (3.12.1)\n",
            "Requirement already satisfied: numpy>=1.17.0 in /usr/local/lib/python3.11/dist-packages (from energyflow) (1.26.4)\n",
            "Collecting wasserstein>=1.0.1 (from energyflow)\n",
            "  Downloading wasserstein-1.1.0-cp311-cp311-manylinux_2_17_x86_64.manylinux2014_x86_64.whl.metadata (3.0 kB)\n",
            "Collecting wurlitzer>=2.0.0 (from wasserstein>=1.0.1->energyflow)\n",
            "  Downloading wurlitzer-3.1.1-py3-none-any.whl.metadata (2.5 kB)\n",
            "Downloading energyflow-1.4.0-py3-none-any.whl (700 kB)\n",
            "\u001b[2K   \u001b[90m━━━━━━━━━━━━━━━━━━━━━━━━━━━━━━━━━━━━━━━━\u001b[0m \u001b[32m700.8/700.8 kB\u001b[0m \u001b[31m24.0 MB/s\u001b[0m eta \u001b[36m0:00:00\u001b[0m\n",
            "\u001b[?25hDownloading wasserstein-1.1.0-cp311-cp311-manylinux_2_17_x86_64.manylinux2014_x86_64.whl (502 kB)\n",
            "\u001b[2K   \u001b[90m━━━━━━━━━━━━━━━━━━━━━━━━━━━━━━━━━━━━━━━━\u001b[0m \u001b[32m502.2/502.2 kB\u001b[0m \u001b[31m8.8 MB/s\u001b[0m eta \u001b[36m0:00:00\u001b[0m\n",
            "\u001b[?25hDownloading wurlitzer-3.1.1-py3-none-any.whl (8.6 kB)\n",
            "Installing collected packages: wurlitzer, wasserstein, energyflow\n",
            "Successfully installed energyflow-1.4.0 wasserstein-1.1.0 wurlitzer-3.1.1\n"
          ]
        }
      ],
      "source": [
        "!pip install torch-geometric\n",
        "!pip install energyflow"
      ]
    },
    {
      "cell_type": "code",
      "execution_count": 2,
      "metadata": {
        "id": "1RQ5QLCzcizJ",
        "colab": {
          "base_uri": "https://localhost:8080/"
        },
        "outputId": "5952f552-ecd8-42dc-d6e9-89c0449aee5e"
      },
      "outputs": [
        {
          "output_type": "stream",
          "name": "stdout",
          "text": [
            "Collecting torch-cluster\n",
            "  Downloading torch_cluster-1.6.3.tar.gz (54 kB)\n",
            "\u001b[?25l     \u001b[90m━━━━━━━━━━━━━━━━━━━━━━━━━━━━━━━━━━━━━━━━\u001b[0m \u001b[32m0.0/54.5 kB\u001b[0m \u001b[31m?\u001b[0m eta \u001b[36m-:--:--\u001b[0m\r\u001b[2K     \u001b[90m━━━━━━━━━━━━━━━━━━━━━━━━━━━━━━━━━━━━━━━━\u001b[0m \u001b[32m54.5/54.5 kB\u001b[0m \u001b[31m2.8 MB/s\u001b[0m eta \u001b[36m0:00:00\u001b[0m\n",
            "\u001b[?25h  Preparing metadata (setup.py) ... \u001b[?25l\u001b[?25hdone\n",
            "Requirement already satisfied: scipy in /usr/local/lib/python3.11/dist-packages (from torch-cluster) (1.14.1)\n",
            "Requirement already satisfied: numpy<2.3,>=1.23.5 in /usr/local/lib/python3.11/dist-packages (from scipy->torch-cluster) (1.26.4)\n",
            "Building wheels for collected packages: torch-cluster\n",
            "  Building wheel for torch-cluster (setup.py) ... \u001b[?25l\u001b[?25hdone\n",
            "  Created wheel for torch-cluster: filename=torch_cluster-1.6.3-cp311-cp311-linux_x86_64.whl size=2065948 sha256=5759c8215be843dd58e952d17316330611639b08aed3d826a7a9223f7e70020a\n",
            "  Stored in directory: /root/.cache/pip/wheels/ef/de/7d/a4211822af99147b93800e9e204f0be21294e3c0b95b3b861a\n",
            "Successfully built torch-cluster\n",
            "Installing collected packages: torch-cluster\n",
            "Successfully installed torch-cluster-1.6.3\n"
          ]
        }
      ],
      "source": [
        "!pip install torch-cluster"
      ]
    },
    {
      "cell_type": "code",
      "execution_count": 3,
      "metadata": {
        "id": "Z2AiT5-5y-M4"
      },
      "outputs": [],
      "source": [
        "import torch\n",
        "import torch.nn.functional as F\n",
        "from torch import nn\n",
        "from torch_geometric.nn import GINConv, global_add_pool\n",
        "from torch_geometric.data import Data, DataLoader\n",
        "from torch_cluster import knn_graph  # Import KNN graph function\n",
        "from sklearn.model_selection import train_test_split\n",
        "import energyflow\n",
        "import numpy as np\n",
        "import os\n",
        "from sklearn.metrics import roc_curve, auc, accuracy_score, confusion_matrix\n",
        "import matplotlib.pyplot as plt\n",
        "import seaborn as sns"
      ]
    },
    {
      "cell_type": "code",
      "execution_count": 4,
      "metadata": {
        "id": "kdKoJ2M8zAfn",
        "colab": {
          "base_uri": "https://localhost:8080/"
        },
        "outputId": "ee155366-c1ee-4a6a-ebb9-c435427e8d47"
      },
      "outputs": [
        {
          "output_type": "stream",
          "name": "stdout",
          "text": [
            "Using device: cuda\n"
          ]
        }
      ],
      "source": [
        "device = 'cuda' if torch.cuda.is_available() else 'cpu'\n",
        "print(f\"Using device: {device}\")\n"
      ]
    },
    {
      "cell_type": "code",
      "execution_count": 5,
      "metadata": {
        "id": "3CI5yaknzCSo",
        "colab": {
          "base_uri": "https://localhost:8080/"
        },
        "outputId": "e974d9ec-5274-453a-cd44-309fe507917e"
      },
      "outputs": [
        {
          "output_type": "stream",
          "name": "stdout",
          "text": [
            "Downloading QG_jets.npz from https://zenodo.org/record/3164691/files/QG_jets.npz?download=1 to /root/.energyflow/datasets\n"
          ]
        }
      ],
      "source": [
        "qg_dataset = energyflow.qg_jets.load(num_data=50000, pad=True, ncol=4, generator='pythia')\n",
        "x = qg_dataset[0]\n",
        "y = qg_dataset[1]  # Labels: 0 (Gluon), 1 (Quark)\n",
        "y = torch.tensor(y, dtype=torch.long)"
      ]
    },
    {
      "cell_type": "code",
      "execution_count": 6,
      "metadata": {
        "id": "06p2shmszFbG"
      },
      "outputs": [],
      "source": [
        "features_to_consider = [0, 1, 2, 3]  # (pT, rapidity, azimuthal angle, energy)\n",
        "x = x[:, :, features_to_consider]"
      ]
    },
    {
      "cell_type": "code",
      "execution_count": 7,
      "metadata": {
        "id": "Ud1MMoqozPjH"
      },
      "outputs": [],
      "source": [
        "jet_graphs = []\n",
        "k_neighbors = 16\n",
        "\n",
        "for i in range(len(x)):\n",
        "    mask = x[i][:, 3] > 0  # Mask out zero-padded particles\n",
        "    node_features = torch.tensor(x[i][mask], dtype=torch.float)\n",
        "    edge_index = knn_graph(node_features, k=k_neighbors, loop=False)  # No self-loops\n",
        "\n",
        "    jet_graphs.append(Data(x=node_features, edge_index=edge_index, y=y[i]))\n"
      ]
    },
    {
      "cell_type": "code",
      "execution_count": 8,
      "metadata": {
        "id": "T2A7ooi9zUb1",
        "colab": {
          "base_uri": "https://localhost:8080/"
        },
        "outputId": "00da8e52-de1c-482b-c6aa-9d1da870de1f"
      },
      "outputs": [
        {
          "output_type": "stream",
          "name": "stderr",
          "text": [
            "/usr/local/lib/python3.11/dist-packages/torch_geometric/deprecation.py:26: UserWarning: 'data.DataLoader' is deprecated, use 'loader.DataLoader' instead\n",
            "  warnings.warn(out)\n"
          ]
        }
      ],
      "source": [
        "train_data, val_data = train_test_split(jet_graphs, test_size=0.1, random_state=42)\n",
        "train_loader = DataLoader(train_data, batch_size=128, shuffle=True)\n",
        "val_loader = DataLoader(val_data, batch_size=128, shuffle=False)"
      ]
    },
    {
      "cell_type": "code",
      "execution_count": 9,
      "metadata": {
        "id": "cvQrnNIUzenN"
      },
      "outputs": [],
      "source": [
        "class GIN(torch.nn.Module):\n",
        "    def __init__(self, node_feat_size, num_classes=2):\n",
        "        super(GIN, self).__init__()\n",
        "        self.conv1 = GINConv(nn.Sequential(nn.Linear(node_feat_size, 64), nn.ReLU(), nn.Linear(64, 64)))\n",
        "        self.conv2 = GINConv(nn.Sequential(nn.Linear(64, 128), nn.ReLU(), nn.Linear(128, 128)))\n",
        "        self.conv3 = GINConv(nn.Sequential(nn.Linear(128, 256), nn.ReLU(), nn.Linear(256, 256)))\n",
        "        self.fc1 = nn.Linear(256, 128)\n",
        "        self.fc2 = nn.Linear(128, num_classes)\n",
        "\n",
        "    def forward(self, data):\n",
        "        x, edge_index, batch = data.x, data.edge_index, data.batch\n",
        "        x = self.conv1(x, edge_index)\n",
        "        x = self.conv2(x, edge_index)\n",
        "        x = self.conv3(x, edge_index)\n",
        "        x = global_add_pool(x, batch)\n",
        "        x = F.relu(self.fc1(x))\n",
        "        return self.fc2(x)\n"
      ]
    },
    {
      "cell_type": "code",
      "execution_count": 10,
      "metadata": {
        "id": "VjW9xP8EzhEC"
      },
      "outputs": [],
      "source": [
        "model = GIN(node_feat_size=len(features_to_consider)).to(device)\n",
        "optimizer = torch.optim.Adam(model.parameters(), lr=0.001)\n",
        "loss_fn = nn.CrossEntropyLoss()\n",
        "\n",
        "gin_model_path = \"gin_model_weights_knn16.pth\""
      ]
    },
    {
      "cell_type": "code",
      "execution_count": null,
      "metadata": {
        "colab": {
          "base_uri": "https://localhost:8080/"
        },
        "id": "YfTIg70fcQMQ",
        "outputId": "591d4e37-7c55-432d-ca5c-04412a138b3d"
      },
      "outputs": [
        {
          "name": "stdout",
          "output_type": "stream",
          "text": [
            "Using device: cpu\n"
          ]
        },
        {
          "name": "stderr",
          "output_type": "stream",
          "text": [
            "/usr/local/lib/python3.11/dist-packages/torch_geometric/deprecation.py:26: UserWarning: 'data.DataLoader' is deprecated, use 'loader.DataLoader' instead\n",
            "  warnings.warn(out)\n"
          ]
        },
        {
          "name": "stdout",
          "output_type": "stream",
          "text": [
            "Epoch 1: Train Loss 843.602, Train Acc 0.598 | Val Loss 1.940, Val Acc 0.637\n",
            "Epoch 2: Train Loss 2.502, Train Acc 0.624 | Val Loss 2.759, Val Acc 0.588\n",
            "Epoch 3: Train Loss 1.017, Train Acc 0.654 | Val Loss 0.708, Val Acc 0.655\n",
            "Epoch 4: Train Loss 60.611, Train Acc 0.631 | Val Loss 1.257, Val Acc 0.570\n",
            "Epoch 5: Train Loss 0.753, Train Acc 0.659 | Val Loss 0.669, Val Acc 0.705\n",
            "Epoch 6: Train Loss 0.623, Train Acc 0.698 | Val Loss 0.610, Val Acc 0.708\n",
            "Epoch 7: Train Loss 0.588, Train Acc 0.715 | Val Loss 0.563, Val Acc 0.731\n",
            "Epoch 8: Train Loss 0.569, Train Acc 0.727 | Val Loss 0.575, Val Acc 0.727\n",
            "Epoch 9: Train Loss 0.561, Train Acc 0.730 | Val Loss 0.564, Val Acc 0.728\n",
            "Epoch 10: Train Loss 0.557, Train Acc 0.732 | Val Loss 0.554, Val Acc 0.740\n",
            "Epoch 11: Train Loss 0.551, Train Acc 0.737 | Val Loss 0.566, Val Acc 0.713\n",
            "Epoch 12: Train Loss 0.552, Train Acc 0.735 | Val Loss 0.548, Val Acc 0.750\n",
            "Epoch 13: Train Loss 0.548, Train Acc 0.737 | Val Loss 0.567, Val Acc 0.723\n",
            "Epoch 14: Train Loss 0.544, Train Acc 0.741 | Val Loss 0.557, Val Acc 0.739\n",
            "Epoch 15: Train Loss 0.547, Train Acc 0.738 | Val Loss 0.557, Val Acc 0.732\n",
            "Epoch 16: Train Loss 0.541, Train Acc 0.742 | Val Loss 0.554, Val Acc 0.724\n",
            "Epoch 17: Train Loss 0.539, Train Acc 0.744 | Val Loss 0.534, Val Acc 0.748\n",
            "Epoch 18: Train Loss 0.540, Train Acc 0.742 | Val Loss 0.548, Val Acc 0.736\n",
            "Epoch 19: Train Loss 0.549, Train Acc 0.734 | Val Loss 0.533, Val Acc 0.750\n",
            "Epoch 20: Train Loss 0.539, Train Acc 0.744 | Val Loss 0.527, Val Acc 0.758\n",
            "Model saved!\n"
          ]
        }
      ],
      "source": [
        "\n",
        "def train_one_epoch(model, loader):\n",
        "    model.train()\n",
        "    total_loss, correct = 0, 0\n",
        "    for data in loader:\n",
        "        data = data.to(device)\n",
        "        optimizer.zero_grad()\n",
        "        out = model(data)\n",
        "        loss = loss_fn(out, data.y)\n",
        "        loss.backward()\n",
        "        optimizer.step()\n",
        "        total_loss += loss.item()\n",
        "        correct += out.argmax(dim=1).eq(data.y).sum().item()\n",
        "    return total_loss / len(loader), correct / len(loader.dataset)\n",
        "\n",
        "def evaluate(model, loader):\n",
        "    model.eval()\n",
        "    total_loss, correct = 0, 0\n",
        "    preds, true_labels, probs = [], [], []\n",
        "    with torch.no_grad():\n",
        "        for data in loader:\n",
        "            data = data.to(device)\n",
        "            out = model(data)\n",
        "            loss = loss_fn(out, data.y)\n",
        "            total_loss += loss.item()\n",
        "            preds.extend(out.argmax(dim=1).cpu().numpy())\n",
        "            true_labels.extend(data.y.cpu().numpy())\n",
        "            probs.append(F.softmax(out, dim=1).cpu().numpy())\n",
        "            correct += out.argmax(dim=1).eq(data.y).sum().item()\n",
        "    return total_loss / len(loader), correct / len(loader.dataset), np.array(preds), np.array(true_labels), np.concatenate(probs)\n",
        "\n",
        "if not os.path.exists(gin_model_path):\n",
        "    EPOCHS = 20\n",
        "    for epoch in range(EPOCHS):\n",
        "        train_loss, train_acc = train_one_epoch(model, train_loader)\n",
        "        val_loss, val_acc, preds, true_labels, probas = evaluate(model, val_loader)\n",
        "        print(f\"Epoch {epoch+1}: Train Loss {train_loss:.3f}, Train Acc {train_acc:.3f} | Val Loss {val_loss:.3f}, Val Acc {val_acc:.3f}\")\n",
        "    torch.save(model.state_dict(), gin_model_path)\n",
        "    print(\"Model saved!\")\n",
        "else:\n",
        "    model.load_state_dict(torch.load(gin_model_path))\n",
        "    print(\"Loaded pre-trained GIN model.\")\n"
      ]
    },
    {
      "cell_type": "code",
      "execution_count": null,
      "metadata": {
        "colab": {
          "base_uri": "https://localhost:8080/",
          "height": 487
        },
        "id": "Fv_mHz7LM4c2",
        "outputId": "a79f9533-d2ae-4f49-8d23-c908bf154779"
      },
      "outputs": [
        {
          "data": {
            "image/png": "[encoded data removed]",
            "text/plain": [
              "<Figure size 600x500 with 2 Axes>"
            ]
          },
          "metadata": {},
          "output_type": "display_data"
        }
      ],
      "source": [
        "def plot_confusion_matrix(true_labels, preds, classes):\n",
        "    cm = confusion_matrix(true_labels, preds, normalize='true')\n",
        "    plt.figure(figsize=(6, 5))\n",
        "    sns.heatmap(cm, annot=True, cmap=\"Blues\", xticklabels=classes, yticklabels=classes, fmt='.2f')\n",
        "    plt.xlabel(\"Predicted\")\n",
        "    plt.ylabel(\"True\")\n",
        "    plt.title(\"Confusion Matrix\")\n",
        "    plt.show()\n",
        "\n",
        "plot_confusion_matrix(true_labels, preds, [\"Gluon\", \"Quark\"])\n",
        "\n",
        "\n"
      ]
    },
    {
      "cell_type": "code",
      "execution_count": null,
      "metadata": {
        "colab": {
          "base_uri": "https://localhost:8080/",
          "height": 487
        },
        "id": "iQJtl2a7NhFP",
        "outputId": "024508f2-4fca-4165-9531-8b1721e6ad4a"
      },
      "outputs": [
        {
          "data": {
            "image/png": "[encoded data removed]",
            "text/plain": [
              "<Figure size 600x500 with 1 Axes>"
            ]
          },
          "metadata": {},
          "output_type": "display_data"
        }
      ],
      "source": [
        "def plot_roc_curve(true_labels, probas, classes):\n",
        "    plt.figure(figsize=(6, 5))\n",
        "    for i, class_name in enumerate(classes):\n",
        "        tpr, fpr, _ = roc_curve((true_labels == i), probas[:, i])\n",
        "        auc_value = auc(tpr, fpr)\n",
        "        plt.plot(tpr, fpr, label=f'{class_name} (AUC = {auc_value:.2f})')\n",
        "    plt.xlabel(\"False Positive Rate\")\n",
        "    plt.ylabel(\"True Positive Rate\")\n",
        "    plt.title(\"ROC Curve\")\n",
        "    plt.legend()\n",
        "    plt.grid()\n",
        "    plt.show()\n",
        "\n",
        "plot_roc_curve(true_labels, probas, [\"Gluon\", \"Quark\"])"
      ]
    }
  ],
  "metadata": {
    "accelerator": "GPU",
    "colab": {
      "gpuType": "T4",
      "provenance": []
    },
    "kernelspec": {
      "display_name": "Python 3",
      "name": "python3"
    },
    "language_info": {
      "name": "python"
    }
  },
  "nbformat": 4,
  "nbformat_minor": 0
}