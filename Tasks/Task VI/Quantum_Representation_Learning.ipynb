{
  "nbformat": 4,
  "nbformat_minor": 0,
  "metadata": {
    "colab": {
      "provenance": [],
      "gpuType": "A100"
    },
    "kernelspec": {
      "name": "python3",
      "display_name": "Python 3"
    },
    "language_info": {
      "name": "python"
    },
    "accelerator": "GPU"
  },
  "cells": [
    {
      "cell_type": "code",
      "source": [
        "!pip install pennylane"
      ],
      "metadata": {
        "colab": {
          "base_uri": "https://localhost:8080/"
        },
        "id": "XjeW5k9K1WEX",
        "outputId": "c44237be-2edd-4762-ee89-8cc5660bd421"
      },
      "execution_count": null,
      "outputs": [
        {
          "output_type": "stream",
          "name": "stdout",
          "text": [
            "Collecting pennylane\n",
            "  Downloading PennyLane-0.40.0-py3-none-any.whl.metadata (10 kB)\n",
            "Requirement already satisfied: numpy<2.1 in /usr/local/lib/python3.11/dist-packages (from pennylane) (1.26.4)\n",
            "Requirement already satisfied: scipy in /usr/local/lib/python3.11/dist-packages (from pennylane) (1.14.1)\n",
            "Requirement already satisfied: networkx in /usr/local/lib/python3.11/dist-packages (from pennylane) (3.4.2)\n",
            "Collecting rustworkx>=0.14.0 (from pennylane)\n",
            "  Downloading rustworkx-0.16.0-cp39-abi3-manylinux_2_17_x86_64.manylinux2014_x86_64.whl.metadata (10 kB)\n",
            "Requirement already satisfied: autograd in /usr/local/lib/python3.11/dist-packages (from pennylane) (1.7.0)\n",
            "Collecting tomlkit (from pennylane)\n",
            "  Downloading tomlkit-0.13.2-py3-none-any.whl.metadata (2.7 kB)\n",
            "Collecting appdirs (from pennylane)\n",
            "  Downloading appdirs-1.4.4-py2.py3-none-any.whl.metadata (9.0 kB)\n",
            "Collecting autoray>=0.6.11 (from pennylane)\n",
            "  Downloading autoray-0.7.0-py3-none-any.whl.metadata (5.8 kB)\n",
            "Requirement already satisfied: cachetools in /usr/local/lib/python3.11/dist-packages (from pennylane) (5.5.2)\n",
            "Collecting pennylane-lightning>=0.40 (from pennylane)\n",
            "  Downloading PennyLane_Lightning-0.40.0-cp311-cp311-manylinux_2_28_x86_64.whl.metadata (27 kB)\n",
            "Requirement already satisfied: requests in /usr/local/lib/python3.11/dist-packages (from pennylane) (2.32.3)\n",
            "Requirement already satisfied: typing-extensions in /usr/local/lib/python3.11/dist-packages (from pennylane) (4.12.2)\n",
            "Requirement already satisfied: packaging in /usr/local/lib/python3.11/dist-packages (from pennylane) (24.2)\n",
            "Collecting diastatic-malt (from pennylane)\n",
            "  Downloading diastatic_malt-2.15.2-py3-none-any.whl.metadata (2.6 kB)\n",
            "Collecting scipy-openblas32>=0.3.26 (from pennylane-lightning>=0.40->pennylane)\n",
            "  Downloading scipy_openblas32-0.3.29.0.0-py3-none-manylinux_2_17_x86_64.manylinux2014_x86_64.whl.metadata (56 kB)\n",
            "\u001b[2K     \u001b[90m━━━━━━━━━━━━━━━━━━━━━━━━━━━━━━━━━━━━━━━━\u001b[0m \u001b[32m56.1/56.1 kB\u001b[0m \u001b[31m5.9 MB/s\u001b[0m eta \u001b[36m0:00:00\u001b[0m\n",
            "\u001b[?25hRequirement already satisfied: astunparse in /usr/local/lib/python3.11/dist-packages (from diastatic-malt->pennylane) (1.6.3)\n",
            "Requirement already satisfied: gast in /usr/local/lib/python3.11/dist-packages (from diastatic-malt->pennylane) (0.6.0)\n",
            "Requirement already satisfied: termcolor in /usr/local/lib/python3.11/dist-packages (from diastatic-malt->pennylane) (2.5.0)\n",
            "Requirement already satisfied: charset-normalizer<4,>=2 in /usr/local/lib/python3.11/dist-packages (from requests->pennylane) (3.4.1)\n",
            "Requirement already satisfied: idna<4,>=2.5 in /usr/local/lib/python3.11/dist-packages (from requests->pennylane) (3.10)\n",
            "Requirement already satisfied: urllib3<3,>=1.21.1 in /usr/local/lib/python3.11/dist-packages (from requests->pennylane) (2.3.0)\n",
            "Requirement already satisfied: certifi>=2017.4.17 in /usr/local/lib/python3.11/dist-packages (from requests->pennylane) (2025.1.31)\n",
            "Requirement already satisfied: wheel<1.0,>=0.23.0 in /usr/local/lib/python3.11/dist-packages (from astunparse->diastatic-malt->pennylane) (0.45.1)\n",
            "Requirement already satisfied: six<2.0,>=1.6.1 in /usr/local/lib/python3.11/dist-packages (from astunparse->diastatic-malt->pennylane) (1.17.0)\n",
            "Downloading PennyLane-0.40.0-py3-none-any.whl (2.0 MB)\n",
            "\u001b[2K   \u001b[90m━━━━━━━━━━━━━━━━━━━━━━━━━━━━━━━━━━━━━━━━\u001b[0m \u001b[32m2.0/2.0 MB\u001b[0m \u001b[31m35.7 MB/s\u001b[0m eta \u001b[36m0:00:00\u001b[0m\n",
            "\u001b[?25hDownloading autoray-0.7.0-py3-none-any.whl (930 kB)\n",
            "\u001b[2K   \u001b[90m━━━━━━━━━━━━━━━━━━━━━━━━━━━━━━━━━━━━━━━━\u001b[0m \u001b[32m930.0/930.0 kB\u001b[0m \u001b[31m62.3 MB/s\u001b[0m eta \u001b[36m0:00:00\u001b[0m\n",
            "\u001b[?25hDownloading PennyLane_Lightning-0.40.0-cp311-cp311-manylinux_2_28_x86_64.whl (2.4 MB)\n",
            "\u001b[2K   \u001b[90m━━━━━━━━━━━━━━━━━━━━━━━━━━━━━━━━━━━━━━━━\u001b[0m \u001b[32m2.4/2.4 MB\u001b[0m \u001b[31m91.7 MB/s\u001b[0m eta \u001b[36m0:00:00\u001b[0m\n",
            "\u001b[?25hDownloading rustworkx-0.16.0-cp39-abi3-manylinux_2_17_x86_64.manylinux2014_x86_64.whl (2.1 MB)\n",
            "\u001b[2K   \u001b[90m━━━━━━━━━━━━━━━━━━━━━━━━━━━━━━━━━━━━━━━━\u001b[0m \u001b[32m2.1/2.1 MB\u001b[0m \u001b[31m93.2 MB/s\u001b[0m eta \u001b[36m0:00:00\u001b[0m\n",
            "\u001b[?25hDownloading appdirs-1.4.4-py2.py3-none-any.whl (9.6 kB)\n",
            "Downloading diastatic_malt-2.15.2-py3-none-any.whl (167 kB)\n",
            "\u001b[2K   \u001b[90m━━━━━━━━━━━━━━━━━━━━━━━━━━━━━━━━━━━━━━━━\u001b[0m \u001b[32m167.9/167.9 kB\u001b[0m \u001b[31m19.7 MB/s\u001b[0m eta \u001b[36m0:00:00\u001b[0m\n",
            "\u001b[?25hDownloading tomlkit-0.13.2-py3-none-any.whl (37 kB)\n",
            "Downloading scipy_openblas32-0.3.29.0.0-py3-none-manylinux_2_17_x86_64.manylinux2014_x86_64.whl (8.6 MB)\n",
            "\u001b[2K   \u001b[90m━━━━━━━━━━━━━━━━━━━━━━━━━━━━━━━━━━━━━━━━\u001b[0m \u001b[32m8.6/8.6 MB\u001b[0m \u001b[31m125.8 MB/s\u001b[0m eta \u001b[36m0:00:00\u001b[0m\n",
            "\u001b[?25hInstalling collected packages: appdirs, tomlkit, scipy-openblas32, rustworkx, autoray, diastatic-malt, pennylane-lightning, pennylane\n",
            "Successfully installed appdirs-1.4.4 autoray-0.7.0 diastatic-malt-2.15.2 pennylane-0.40.0 pennylane-lightning-0.40.0 rustworkx-0.16.0 scipy-openblas32-0.3.29.0.0 tomlkit-0.13.2\n"
          ]
        }
      ]
    },
    {
      "cell_type": "code",
      "source": [
        "import numpy as np\n",
        "from sklearn.decomposition import PCA\n",
        "import tensorflow as tf\n",
        "import pennylane as qml\n",
        "import tensorflow as tf\n",
        "import matplotlib.pyplot as plt\n"
      ],
      "metadata": {
        "id": "pBEOVq6CfTo1"
      },
      "execution_count": null,
      "outputs": []
    },
    {
      "cell_type": "code",
      "source": [
        "(x_train, y_train), (_, _) = tf.keras.datasets.mnist.load_data()\n",
        "x_train = x_train / 255.0"
      ],
      "metadata": {
        "colab": {
          "base_uri": "https://localhost:8080/"
        },
        "id": "8qIeEOGefXBv",
        "outputId": "5e880f78-f856-4ee6-da95-39592bbc9544"
      },
      "execution_count": null,
      "outputs": [
        {
          "output_type": "stream",
          "name": "stdout",
          "text": [
            "Downloading data from https://storage.googleapis.com/tensorflow/tf-keras-datasets/mnist.npz\n",
            "\u001b[1m11490434/11490434\u001b[0m \u001b[32m━━━━━━━━━━━━━━━━━━━━\u001b[0m\u001b[37m\u001b[0m \u001b[1m0s\u001b[0m 0us/step\n"
          ]
        }
      ]
    },
    {
      "cell_type": "markdown",
      "source": [
        "Principal Component Analysis (PCA) is applied to the MNIST dataset, which consists of 60,000 grayscale 28×28 images of handwritten digits. Each image is flattened into a 784-dimensional vector, and PCA is used to reduce its dimensionality while retaining 95% of the variance. The function determines that 154 principal components are sufficient to preserve this information, significantly reducing the data size while maintaining essential features for classification."
      ],
      "metadata": {
        "id": "MmWwqFrhmGaJ"
      }
    },
    {
      "cell_type": "code",
      "source": [
        "\n",
        "# Apply PCA\n",
        "def apply_pca_to_dataset(images, target_variance=0.95):\n",
        "    \"\"\"\n",
        "    Apply PCA to the entire dataset.\n",
        "\n",
        "    Parameters:\n",
        "    - images: Array of images where each image is a 2D array.\n",
        "    - target_variance: Target variance for PCA.\n",
        "\n",
        "    Returns:\n",
        "    - pca_images: Array of PCA-transformed images.\n",
        "    \"\"\"\n",
        "    flattened_images = images.reshape(images.shape[0], -1)\n",
        "\n",
        "    pca = PCA(n_components=None)\n",
        "    pca.fit(flattened_images)\n",
        "\n",
        "    cumulative_variance = np.cumsum(pca.explained_variance_ratio_)\n",
        "    n_components = np.argmax(cumulative_variance >= target_variance) + 1 if np.any(cumulative_variance >= target_variance) else len(cumulative_variance)\n",
        "\n",
        "    plt.figure()\n",
        "    plt.plot(cumulative_variance, marker='o', linestyle='-')\n",
        "    plt.xlabel('Number of Components')\n",
        "    plt.ylabel('Cumulative Explained Variance Ratio')\n",
        "    plt.title('Cumulative Explained Variance Ratio')\n",
        "    plt.grid(True)\n",
        "    plt.show()\n",
        "\n",
        "    pca = PCA(n_components=n_components)\n",
        "    pca_images = pca.fit_transform(flattened_images)\n",
        "\n",
        "    return pca_images\n",
        "\n",
        "\n",
        "pca_images = apply_pca_to_dataset(x_train)\n",
        "print(\"PCA Images:\", pca_images.shape)\n"
      ],
      "metadata": {
        "colab": {
          "base_uri": "https://localhost:8080/",
          "height": 489
        },
        "id": "vKqlixcM3Rs1",
        "outputId": "15e30c96-8b3c-412e-f08a-81a30713ddad"
      },
      "execution_count": null,
      "outputs": [
        {
          "output_type": "display_data",
          "data": {
            "text/plain": [
              "<Figure size 640x480 with 1 Axes>"
            ],
            "image/png": "[encoded data removed]"
          },
          "metadata": {}
        },
        {
          "output_type": "stream",
          "name": "stdout",
          "text": [
            "PCA Images: (60000, 154)\n"
          ]
        }
      ]
    },
    {
      "cell_type": "code",
      "source": [
        "(x_train, y_train) = (x_train[:100], y_train[:100])\n",
        "x_train = x_train / 255.0"
      ],
      "metadata": {
        "id": "9Ib5VFANhRA0"
      },
      "execution_count": null,
      "outputs": []
    },
    {
      "cell_type": "markdown",
      "source": [
        "Max Pooling is applied to the MNIST dataset to reduce the spatial dimensions of the images. Initially, the training images (x_train) are expanded to have a channel dimension for compatibility with TensorFlow's MaxPooling2D layer. The Max Pooling layer is then applied with a 2×2 pool size and a stride of 2, effectively reducing each 28×28 image to 14×14, while retaining the most prominent pixel values in each region. Finally, the extra dimension added earlier is removed, restoring the array to its original format."
      ],
      "metadata": {
        "id": "BcWO5p7xmxqd"
      }
    },
    {
      "cell_type": "code",
      "source": [
        "# Max pooling to reduce image size\n",
        "x_train = np.expand_dims(x_train, axis=-1)\n",
        "max_pooling_layer = tf.keras.layers.MaxPooling2D(pool_size=(2, 2), strides=(2, 2), padding='valid')\n",
        "x_train = max_pooling_layer(x_train)\n",
        "x_train = np.squeeze(x_train, axis=-1)"
      ],
      "metadata": {
        "id": "_oh-IYVZhWN1"
      },
      "execution_count": null,
      "outputs": []
    },
    {
      "cell_type": "markdown",
      "source": [
        "This quantum circuit embeds classical data using Amplitude Embedding on 8 qubits and applies parameterized rotations (qml.Rot) for feature encoding. It also introduces entanglement using CNOT gates between adjacent qubits to enhance expressivity."
      ],
      "metadata": {
        "id": "EcmGxFNqnHp_"
      }
    },
    {
      "cell_type": "code",
      "source": [
        "dev = qml.device('default.qubit', wires=17)  # One extra qubit for swap test\n",
        "\n",
        "@qml.qnode(dev, interface=\"tf\")\n",
        "def circuit(features, weights):\n",
        "    \"\"\"Quantum Embedding Circuit\"\"\"\n",
        "    qml.templates.AmplitudeEmbedding(features, wires=range(8), normalize=True, pad_with=0.)\n",
        "\n",
        "    for i in range(tf.shape(weights)[0]):\n",
        "        qml.Rot(*weights[i], wires=i)\n",
        "        if i % 2 == 0:\n",
        "            qml.CNOT(wires=[i, (i+1) % 8])\n",
        "            qml.Rot(*weights[i], wires=(i+1) % 8)\n",
        "\n",
        "    return qml.state()"
      ],
      "metadata": {
        "id": "831_jxu7hfVA"
      },
      "execution_count": null,
      "outputs": []
    },
    {
      "cell_type": "markdown",
      "source": [
        "# Performing SWAP Test"
      ],
      "metadata": {
        "id": "lZl-iX05vk9m"
      }
    },
    {
      "cell_type": "markdown",
      "source": [
        "This quantum swap test circuit determines the similarity between two feature-encoded images by embedding them into two separate 8-qubit registers using Amplitude Embedding. A controlled SWAP (CSWAP) operation swaps corresponding qubits between the two registers, conditioned on an auxiliary qubit. The final Hadamard gate on the auxiliary qubit enables measurement, where the probability of measuring |0⟩ indicates the similarity between the two images.\n",
        "\n",
        "# Initial Hadamard Superposition\n",
        "\n",
        "The auxiliary qubit is initialized in |0⟩ and passed through a Hadamard gate, creating an equal superposition of |0⟩ and |1⟩:\n",
        "\n",
        "$$\n",
        "\\frac{1}{\\sqrt{2}} (|0\\rangle + |1\\rangle)\n",
        "$$\n",
        "\n",
        "# Embedding the Images\n",
        "\n",
        "The two images (feature vectors features1 and features2) are embedded into two separate 8-qubit registers.\n",
        "\n",
        "# Controlled SWAP (CSWAP) Operation\n",
        "\n",
        "- If the auxiliary qubit is |1⟩, it swaps the corresponding qubits in both registers.\n",
        "- If the auxiliary qubit is |0⟩, nothing changes.\n",
        "\n",
        "# Final Hadamard and Measurement\n",
        "\n",
        "After applying another Hadamard gate to the auxiliary qubit, the probability of measuring |0⟩ is:\n",
        "\n",
        "$$\n",
        "P(|0\\rangle) = \\frac{1 + |\\langle \\psi_1 | \\psi_2 \\rangle|^2}{2}\n",
        "$$\n",
        "\n",
        "where |⟨ψ₁ | ψ₂⟩|² represents the fidelity (or squared overlap) between the quantum states of the two images.\n",
        "\n",
        "# Interpreting the Probability\n",
        "\n",
        "- If features1 and features2 are identical, their states are the same (|ψ₁⟩ = |ψ₂⟩), so |⟨ψ₁ | ψ₂⟩|² = 1, giving P(|0⟩) = 1 (maximum probability).\n",
        "- If they are completely different (orthogonal states), |⟨ψ₁ | ψ₂⟩|² = 0, giving P(|0⟩) = 0.5.\n",
        "- Intermediate probabilities indicate partial similarity.\n"
      ],
      "metadata": {
        "id": "J1x1vc1zmb4E"
      }
    },
    {
      "cell_type": "code",
      "source": [
        "@qml.qnode(dev, interface=\"tf\")\n",
        "def swap_test_circuit(features1, features2, weights):\n",
        "    \"\"\"Quantum Swap Test Circuit\"\"\"\n",
        "\n",
        "    qml.Hadamard(wires=16)  # Auxiliary qubit\n",
        "\n",
        "    # First image\n",
        "    qml.templates.AmplitudeEmbedding(features1, wires=range(8), normalize=True, pad_with=0.)\n",
        "    for i in range(tf.shape(weights)[0]):\n",
        "        qml.Rot(*weights[i], wires=i)\n",
        "\n",
        "    # Second image\n",
        "    qml.templates.AmplitudeEmbedding(features2, wires=range(8, 16), normalize=True, pad_with=0.)\n",
        "    for i in range(tf.shape(weights)[0]):\n",
        "        qml.Rot(*weights[i], wires=i+8)\n",
        "\n",
        "    # Controlled SWAP test\n",
        "    for i in range(8):\n",
        "        qml.CSWAP(wires=[16, i, i+8])\n",
        "\n",
        "    qml.Hadamard(wires=16)  # Final Hadamard on auxiliary qubit\n",
        "    return qml.probs(wires=16)"
      ],
      "metadata": {
        "id": "WJrowcwZho4B"
      },
      "execution_count": null,
      "outputs": []
    },
    {
      "cell_type": "markdown",
      "source": [
        "The quantum_fidelity function extracts similarity from the probability of measuring |1⟩, using:\n",
        " $$\n",
        "   F = 1 - 2P(|1\\rangle)\n",
        "   $$\n",
        "\n",
        "To optimize the quantum embeddings, a contrastive loss function is used. The contrastive loss function is designed for training a Siamese Network with quantum embeddings. It minimizes loss for similar pairs by squaring their similarity score and applies a margin-based penalty for dissimilar pairs, ensuring they are pushed apart in feature space.\n",
        "\n",
        "   $$\n",
        "   L = \\frac{1}{2} \\left[ y_{\\text{true}} \\cdot \\text{similarity}^2 + (1 - y_{\\text{true}}) \\cdot \\max(\\text{margin} - \\text{similarity}, 0)^2 \\right]\n",
        "   $$\n",
        "\n",
        "\n",
        "\n",
        "\n",
        "   A Siamese Network is a type of neural network designed for pairwise comparisons. Instead of classifying inputs directly, it learns a similarity function that measures how close two inputs are in feature space. It consists of two identical sub-networks (hence the name Siamese), each processing one of the two inputs. The outputs of both networks are then compared using a similarity metric, such as Euclidean distance, cosine similarity, or contrastive loss."
      ],
      "metadata": {
        "id": "Rae2a14AtmjO"
      }
    },
    {
      "cell_type": "code",
      "source": [
        "def quantum_embedding_model(features, weights):\n",
        "    return circuit(features=features, weights=weights)\n",
        "\n",
        "\n",
        "def quantum_fidelity(state1, state2, weights):\n",
        "    \"\"\"Compute Fidelity using Swap Test\"\"\"\n",
        "    swap_test_result = swap_test_circuit(state1, state2, weights)\n",
        "    fidelity = 1 - 2 * swap_test_result[1]\n",
        "    return fidelity\n",
        "\n",
        "\n",
        "# Contrastive loss function\n",
        "def contrastive_loss(y_true, similarity, margin=1):\n",
        "    loss_similar = y_true * tf.square(similarity)\n",
        "    loss_dissimilar = (1 - y_true) * tf.square(tf.maximum(margin - similarity, 0))\n",
        "    return tf.reduce_mean(0.5 * (loss_similar + loss_dissimilar))"
      ],
      "metadata": {
        "id": "m8we0AdGhrXx"
      },
      "execution_count": null,
      "outputs": []
    },
    {
      "cell_type": "code",
      "source": [
        "num_params = 8\n",
        "sample_weights = np.random.randn(num_params, 3)\n",
        "sample_weights_tf = tf.Variable(sample_weights, dtype=tf.float32)\n",
        "\n",
        "# Training loop\n",
        "num_epochs = 10\n",
        "batch_size = 2\n",
        "learning_rate = 0.001\n",
        "optimizer = tf.keras.optimizers.Adam(learning_rate)\n",
        "\n",
        "for epoch in range(num_epochs):\n",
        "    total_loss = 0\n",
        "    num_batches = len(x_train) // batch_size\n",
        "\n",
        "    for batch_idx in range(num_batches):\n",
        "        positive_pairs = []\n",
        "        negative_pairs = []\n",
        "        labels = []\n",
        "\n",
        "        for i in range(batch_size):\n",
        "            anchor_image = x_train[np.random.randint(0, len(x_train))]\n",
        "\n",
        "            positive_image = anchor_image\n",
        "            negative_image = x_train[np.random.randint(0, len(x_train))]\n",
        "            while np.array_equal(negative_image, anchor_image):\n",
        "                negative_image = x_train[np.random.randint(0, len(x_train))]\n",
        "\n",
        "            positive_pairs.append((anchor_image, positive_image))\n",
        "            negative_pairs.append((anchor_image, negative_image))\n",
        "            labels.append(1)\n",
        "            labels.append(0)\n",
        "\n",
        "        # Embeddings and similarity scores using Swap Test\n",
        "        positive_similarities = []\n",
        "        for pair in positive_pairs:\n",
        "            pair0 = tf.reshape(pair[0], -1)\n",
        "            pair1 = tf.reshape(pair[1], -1)\n",
        "            similarity = quantum_fidelity(pair0, pair1, sample_weights_tf)\n",
        "            positive_similarities.append(similarity)\n",
        "\n",
        "        negative_similarities = []\n",
        "        for pair in negative_pairs:\n",
        "            pair0 = tf.reshape(pair[0], -1)\n",
        "            pair1 = tf.reshape(pair[1], -1)\n",
        "            similarity = quantum_fidelity(pair0, pair1, sample_weights_tf)\n",
        "            negative_similarities.append(similarity)\n",
        "\n",
        "        all_similarities = positive_similarities + negative_similarities\n",
        "\n",
        "        all_similarities_tf = tf.convert_to_tensor(all_similarities, dtype=tf.float32)\n",
        "        labels_tf = tf.convert_to_tensor(labels, dtype=tf.float32)\n",
        "\n",
        "        with tf.GradientTape() as tape:\n",
        "            loss = contrastive_loss(labels_tf, all_similarities_tf, margin=1)\n",
        "\n",
        "\n",
        "\n",
        "        total_loss += loss.numpy()\n",
        "\n",
        "    print(\"Epoch {}, Loss: {:.4f}\".format(epoch + 1, total_loss / num_batches))\n",
        "\n",
        "\n",
        "# Evaluation\n",
        "def evaluate_model(model, x_eval, num_pairs=2):\n",
        "    positive_pairs = []\n",
        "    negative_pairs = []\n",
        "    labels = []\n",
        "\n",
        "    anchor_image = x_train[np.random.randint(0, len(x_train))]\n",
        "    positive_image = anchor_image\n",
        "    negative_image = x_train[np.random.randint(0, len(x_train))]\n",
        "    while np.array_equal(negative_image, anchor_image):\n",
        "        negative_image = x_train[np.random.randint(0, len(x_train))]\n",
        "\n",
        "    positive_pairs.append((anchor_image, positive_image))\n",
        "    negative_pairs.append((anchor_image, negative_image))\n",
        "    labels.append(1)\n",
        "    labels.append(0)\n",
        "\n",
        "    for pair in positive_pairs:\n",
        "        pair0 = tf.reshape(pair[0], -1)\n",
        "        pair1 = tf.reshape(pair[1], -1)\n",
        "        similarity = quantum_fidelity(pair0, pair1, sample_weights_tf)\n",
        "        print(\"Similarity score:\", similarity.numpy(), \"Label: 1\")\n",
        "        plt.figure()\n",
        "        plt.subplot(1, 2, 1)\n",
        "        plt.imshow(pair[0], cmap='gray')\n",
        "        plt.title(\"Anchor Image\")\n",
        "        plt.axis('off')\n",
        "        plt.subplot(1, 2, 2)\n",
        "        plt.imshow(pair[1], cmap='gray')\n",
        "        plt.title(\"Positive Image\")\n",
        "        plt.axis('off')\n",
        "        plt.show()\n",
        "\n",
        "    for pair in negative_pairs:\n",
        "        pair0 = tf.reshape(pair[0], -1)\n",
        "        pair1 = tf.reshape(pair[1], -1)\n",
        "        similarity = quantum_fidelity(pair0, pair1, sample_weights_tf)\n",
        "        print(\"Similarity score:\", similarity.numpy(), \"Label: 0\")\n",
        "        plt.figure()\n",
        "        plt.subplot(1, 2, 1)\n",
        "        plt.imshow(pair[0], cmap='gray')\n",
        "        plt.title(\"Anchor Image\")\n",
        "        plt.axis('off')\n",
        "        plt.subplot(1, 2, 2)\n",
        "        plt.imshow(pair[1], cmap='gray')\n",
        "        plt.title(\"Negative Image\")\n",
        "        plt.axis('off')\n",
        "        plt.show()\n",
        "\n",
        "\n",
        "evaluate_model(quantum_embedding_model, x_train)\n"
      ],
      "metadata": {
        "colab": {
          "base_uri": "https://localhost:8080/",
          "height": 759
        },
        "id": "r-UVfCfM8zHW",
        "outputId": "48a737fc-b312-4465-a679-c6e75947c9f1"
      },
      "execution_count": 12,
      "outputs": [
        {
          "output_type": "stream",
          "name": "stdout",
          "text": [
            "Epoch 1, Loss: 0.1924\n",
            "Epoch 2, Loss: 0.1900\n",
            "Epoch 3, Loss: 0.1984\n",
            "Epoch 4, Loss: 0.1966\n",
            "Epoch 5, Loss: 0.1998\n",
            "Epoch 6, Loss: 0.1910\n",
            "Epoch 7, Loss: 0.1931\n",
            "Epoch 8, Loss: 0.1969\n",
            "Epoch 9, Loss: 0.1894\n",
            "Epoch 10, Loss: 0.1970\n",
            "Similarity score: 1.0 Label: 1\n"
          ]
        },
        {
          "output_type": "display_data",
          "data": {
            "text/plain": [
              "<Figure size 640x480 with 2 Axes>"
            ],
            "image/png": "[encoded data removed]"
          },
          "metadata": {}
        },
        {
          "output_type": "stream",
          "name": "stdout",
          "text": [
            "Similarity score: 0.28215905561256116 Label: 0\n"
          ]
        },
        {
          "output_type": "display_data",
          "data": {
            "text/plain": [
              "<Figure size 640x480 with 2 Axes>"
            ],
            "image/png": "[encoded data removed]"
          },
          "metadata": {}
        }
      ]
    },
    {
      "cell_type": "code",
      "source": [
        "# Evaluating for 3 other pairs\n",
        "def evaluate_model(model, x_eval, num_pairs=3):\n",
        "    positive_pairs = []\n",
        "    negative_pairs = []\n",
        "    labels = []\n",
        "\n",
        "    for i in range(num_pairs):\n",
        "        anchor_image = x_eval[i]\n",
        "        positive_image = anchor_image\n",
        "        negative_image = x_eval[(i+1) % len(x_eval)]\n",
        "\n",
        "        positive_pairs.append((anchor_image, positive_image))\n",
        "        negative_pairs.append((anchor_image, negative_image))\n",
        "        labels.append(1)\n",
        "        labels.append(0)\n",
        "\n",
        "    for pair in positive_pairs:\n",
        "        pair0 = tf.reshape(pair[0], -1)\n",
        "        pair1 = tf.reshape(pair[1], -1)\n",
        "        similarity = quantum_fidelity(pair0, pair1, sample_weights_tf)\n",
        "        print(\"Similarity score:\", similarity.numpy(), \"Label: 1\")\n",
        "        plt.figure()\n",
        "        plt.subplot(1, 2, 1)\n",
        "        plt.imshow(pair[0], cmap='gray')\n",
        "        plt.title(\"Anchor Image\")\n",
        "        plt.axis('off')\n",
        "        plt.subplot(1, 2, 2)\n",
        "        plt.imshow(pair[1], cmap='gray')\n",
        "        plt.title(\"Positive Image\")\n",
        "        plt.axis('off')\n",
        "        plt.show()\n",
        "\n",
        "    for pair in negative_pairs:\n",
        "        pair0 = tf.reshape(pair[0], -1)\n",
        "        pair1 = tf.reshape(pair[1], -1)\n",
        "        similarity = quantum_fidelity(pair0, pair1, sample_weights_tf)\n",
        "        print(\"Similarity score:\", similarity.numpy(), \"Label: 0\")\n",
        "        plt.figure()\n",
        "        plt.subplot(1, 2, 1)\n",
        "        plt.imshow(pair[0], cmap='gray')\n",
        "        plt.title(\"Anchor Image\")\n",
        "        plt.axis('off')\n",
        "        plt.subplot(1, 2, 2)\n",
        "        plt.imshow(pair[1], cmap='gray')\n",
        "        plt.title(\"Negative Image\")\n",
        "        plt.axis('off')\n",
        "        plt.show()\n",
        "\n",
        "\n",
        "evaluate_model(quantum_embedding_model, x_train)\n"
      ],
      "metadata": {
        "id": "C05H7r1ILNTA",
        "colab": {
          "base_uri": "https://localhost:8080/",
          "height": 1000
        },
        "outputId": "e6672ef7-3770-4025-8799-44c0a6eae75d"
      },
      "execution_count": 13,
      "outputs": [
        {
          "output_type": "stream",
          "name": "stdout",
          "text": [
            "Similarity score: 1.0 Label: 1\n"
          ]
        },
        {
          "output_type": "display_data",
          "data": {
            "text/plain": [
              "<Figure size 640x480 with 2 Axes>"
            ],
            "image/png": "[encoded data removed]"
          },
          "metadata": {}
        },
        {
          "output_type": "stream",
          "name": "stdout",
          "text": [
            "Similarity score: 1.0 Label: 1\n"
          ]
        },
        {
          "output_type": "display_data",
          "data": {
            "text/plain": [
              "<Figure size 640x480 with 2 Axes>"
            ],
            "image/png": "[encoded data removed]"
          },
          "metadata": {}
        },
        {
          "output_type": "stream",
          "name": "stdout",
          "text": [
            "Similarity score: 1.0 Label: 1\n"
          ]
        },
        {
          "output_type": "display_data",
          "data": {
            "text/plain": [
              "<Figure size 640x480 with 2 Axes>"
            ],
            "image/png": "[encoded data removed]"
          },
          "metadata": {}
        },
        {
          "output_type": "stream",
          "name": "stdout",
          "text": [
            "Similarity score: 0.46322016285738077 Label: 0\n"
          ]
        },
        {
          "output_type": "display_data",
          "data": {
            "text/plain": [
              "<Figure size 640x480 with 2 Axes>"
            ],
            "image/png": "[encoded data removed]"
          },
          "metadata": {}
        },
        {
          "output_type": "stream",
          "name": "stdout",
          "text": [
            "Similarity score: 0.3413774504983058 Label: 0\n"
          ]
        },
        {
          "output_type": "display_data",
          "data": {
            "text/plain": [
              "<Figure size 640x480 with 2 Axes>"
            ],
            "image/png": "[encoded data removed]"
          },
          "metadata": {}
        },
        {
          "output_type": "stream",
          "name": "stdout",
          "text": [
            "Similarity score: 0.1525904184719048 Label: 0\n"
          ]
        },
        {
          "output_type": "display_data",
          "data": {
            "text/plain": [
              "<Figure size 640x480 with 2 Axes>"
            ],
            "image/png": "[encoded data removed]"
          },
          "metadata": {}
        }
      ]
    },
    {
      "cell_type": "markdown",
      "source": [
        "# Using a Quantum Fidelity Function to calculate fidelity between two quantum states"
      ],
      "metadata": {
        "id": "u3wO1w_6vX8b"
      }
    },
    {
      "cell_type": "code",
      "source": [
        "@qml.qnode(dev, interface=\"tf\")\n",
        "def circuit(features, weights):\n",
        "    qml.templates.AmplitudeEmbedding(features, wires=range(8), normalize=True, pad_with=0.)\n",
        "\n",
        "    for i in range(tf.shape(weights)[0]):\n",
        "        qml.Rot(*weights[i], wires=i)\n",
        "        if i % 2 == 0:\n",
        "            qml.CNOT(wires=[i, (i+1) % 8])\n",
        "            qml.Rot(*weights[i], wires=(i+1) % 8)\n",
        "\n",
        "    return qml.expval(qml.Z(0)), qml.state()"
      ],
      "metadata": {
        "id": "iodc5aeiiuQe"
      },
      "execution_count": null,
      "outputs": []
    },
    {
      "cell_type": "code",
      "source": [
        "def quantum_embedding_model(features, weights):\n",
        "    res, state = circuit(features=features, weights=weights)\n",
        "    return state\n"
      ],
      "metadata": {
        "id": "rJmghp2qi1yX"
      },
      "execution_count": null,
      "outputs": []
    },
    {
      "cell_type": "markdown",
      "source": [
        "The quantum_fidelity function computes the similarity between two quantum states, ensuring the fidelity value remains within the valid range [0,1]."
      ],
      "metadata": {
        "id": "brF5Rr69wpCA"
      }
    },
    {
      "cell_type": "code",
      "source": [
        "# Function to calculate fidelity between two quantum states\n",
        "def quantum_fidelity(state1, state2):\n",
        "    fidelity = qml.math.fidelity_statevector(state1, state2)\n",
        "    if fidelity > 1:\n",
        "        fidelity = 1\n",
        "    if fidelity < 0:\n",
        "        fidelity = 0\n",
        "    return fidelity\n",
        "\n",
        "# Contrastive loss function\n",
        "def contrastive_loss(y_true, similarity, margin=1):\n",
        "    loss_similar = y_true * tf.square(similarity)\n",
        "    loss_dissimilar = (1 - y_true) * tf.square(tf.maximum(margin - similarity, 0))\n",
        "    return tf.reduce_mean(0.5 * (loss_similar + loss_dissimilar))"
      ],
      "metadata": {
        "id": "-OuuxUkJi61A"
      },
      "execution_count": null,
      "outputs": []
    },
    {
      "cell_type": "code",
      "execution_count": null,
      "metadata": {
        "colab": {
          "base_uri": "https://localhost:8080/",
          "height": 1000
        },
        "id": "4ySGPhaN1Sog",
        "outputId": "35a007f4-494e-496e-a7e3-f54e86960977"
      },
      "outputs": [
        {
          "output_type": "stream",
          "name": "stdout",
          "text": [
            "Epoch 1, Loss: 0.2083\n",
            "Epoch 2, Loss: 0.2041\n",
            "Epoch 3, Loss: 0.2017\n",
            "Epoch 4, Loss: 0.1993\n",
            "Epoch 5, Loss: 0.2016\n",
            "Epoch 6, Loss: 0.2069\n",
            "Epoch 7, Loss: 0.2038\n",
            "Epoch 8, Loss: 0.1988\n",
            "Epoch 9, Loss: 0.1948\n",
            "Epoch 10, Loss: 0.1991\n",
            "Similarity score: 1 Label: 1\n"
          ]
        },
        {
          "output_type": "display_data",
          "data": {
            "text/plain": [
              "<Figure size 640x480 with 2 Axes>"
            ],
            "image/png": "[encoded data removed]"
          },
          "metadata": {}
        },
        {
          "output_type": "stream",
          "name": "stdout",
          "text": [
            "Similarity score: tf.Tensor(0.3980853055212184, shape=(), dtype=float64) Label: 0\n"
          ]
        },
        {
          "output_type": "display_data",
          "data": {
            "text/plain": [
              "<Figure size 640x480 with 2 Axes>"
            ],
            "image/png": "[encoded data removed]"
          },
          "metadata": {}
        },
        {
          "output_type": "stream",
          "name": "stdout",
          "text": [
            "Similarity score (positive): 1\n",
            "Similarity score (negative): tf.Tensor(0.4620064558610217, shape=(), dtype=float64)\n"
          ]
        },
        {
          "output_type": "display_data",
          "data": {
            "text/plain": [
              "<Figure size 640x480 with 3 Axes>"
            ],
            "image/png": "[encoded data removed]"
          },
          "metadata": {}
        },
        {
          "output_type": "stream",
          "name": "stdout",
          "text": [
            "Similarity score (positive): 1\n",
            "Similarity score (negative): tf.Tensor(0.37946426038549824, shape=(), dtype=float64)\n"
          ]
        },
        {
          "output_type": "display_data",
          "data": {
            "text/plain": [
              "<Figure size 640x480 with 3 Axes>"
            ],
            "image/png": "[encoded data removed]"
          },
          "metadata": {}
        },
        {
          "output_type": "stream",
          "name": "stdout",
          "text": [
            "Similarity score (positive): 1\n",
            "Similarity score (negative): tf.Tensor(0.32698715913027093, shape=(), dtype=float64)\n"
          ]
        },
        {
          "output_type": "display_data",
          "data": {
            "text/plain": [
              "<Figure size 640x480 with 3 Axes>"
            ],
            "image/png": "[encoded data removed]"
          },
          "metadata": {}
        }
      ],
      "source": [
        "num_params = 8\n",
        "sample_weights = np.random.randn(num_params, 3)\n",
        "sample_weights_tf = tf.Variable(sample_weights, dtype=tf.float32)\n",
        "\n",
        "# Training loop\n",
        "num_epochs = 10\n",
        "batch_size = 2\n",
        "learning_rate = 0.001\n",
        "optimizer = tf.keras.optimizers.Adam(learning_rate)\n",
        "\n",
        "for epoch in range(num_epochs):\n",
        "    total_loss = 0\n",
        "    num_batches = len(x_train) // batch_size\n",
        "\n",
        "    for batch_idx in range(num_batches):\n",
        "        positive_pairs = []\n",
        "        negative_pairs = []\n",
        "        labels = []\n",
        "\n",
        "        for i in range(batch_size):\n",
        "            anchor_image = x_train[np.random.randint(0, len(x_train))]\n",
        "\n",
        "            # Positive pair (similar image)\n",
        "            positive_image = anchor_image\n",
        "\n",
        "            # Negative pair (dissimilar image)\n",
        "            negative_image = x_train[np.random.randint(0, len(x_train))]\n",
        "            while np.array_equal(negative_image, anchor_image):\n",
        "                negative_image = x_train[np.random.randint(0, len(x_train))]\n",
        "\n",
        "            positive_pairs.append((anchor_image, positive_image))\n",
        "            negative_pairs.append((anchor_image, negative_image))\n",
        "            labels.append(1)\n",
        "            labels.append(0)\n",
        "\n",
        "        # Embeddings and similarity scores for positive pairs\n",
        "        positive_similarities = []\n",
        "        for pair in positive_pairs:\n",
        "            pair0 = tf.reshape(pair[0], -1)\n",
        "            pair1 = tf.reshape(pair[1], -1)\n",
        "            anchor_embedding = quantum_embedding_model(features=pair0, weights=sample_weights_tf)\n",
        "            positive_embedding = quantum_embedding_model(features=pair1, weights=sample_weights_tf)\n",
        "            similarity = quantum_fidelity(anchor_embedding, positive_embedding)\n",
        "            positive_similarities.append(similarity)\n",
        "\n",
        "        # Embeddings and similarity scores for negative pairs\n",
        "        negative_similarities = []\n",
        "        for pair in negative_pairs:\n",
        "            pair0 = tf.reshape(pair[0], -1)\n",
        "            pair1 = tf.reshape(pair[1], -1)\n",
        "            anchor_embedding = quantum_embedding_model(features=pair0, weights=sample_weights_tf)\n",
        "            negative_embedding = quantum_embedding_model(features=pair1, weights=sample_weights_tf)\n",
        "            similarity = quantum_fidelity(anchor_embedding, negative_embedding)\n",
        "            negative_similarities.append(similarity)\n",
        "\n",
        "        # Concatenate\n",
        "        all_similarities = positive_similarities + negative_similarities\n",
        "        all_similarities_tf = tf.convert_to_tensor(all_similarities, dtype=tf.float32)\n",
        "        labels_tf = tf.convert_to_tensor(labels, dtype=tf.float32)\n",
        "\n",
        "        with tf.GradientTape() as tape:\n",
        "            loss = contrastive_loss(labels_tf, all_similarities_tf, margin=1)\n",
        "\n",
        "        gradients = tape.gradient(loss, sample_weights_tf)\n",
        "\n",
        "        total_loss += loss.numpy()\n",
        "\n",
        "    print(\"Epoch {}, Loss: {:.4f}\".format(epoch + 1, total_loss / num_batches))\n",
        "\n",
        "# Evaluation\n",
        "def evaluate_model(model, x_eval, num_pairs=2):\n",
        "    positive_pairs = []\n",
        "    negative_pairs = []\n",
        "    labels = []\n",
        "\n",
        "    anchor_image = x_train[np.random.randint(0, len(x_train))]\n",
        "\n",
        "    # Positive pair (similar image)\n",
        "    positive_image = anchor_image\n",
        "\n",
        "    # Negative pair (dissimilar image)\n",
        "    negative_image = x_train[np.random.randint(0, len(x_train))]\n",
        "    while np.array_equal(negative_image, anchor_image):\n",
        "        negative_image = x_train[np.random.randint(0, len(x_train))]\n",
        "\n",
        "    positive_pairs.append((anchor_image, positive_image))\n",
        "    negative_pairs.append((anchor_image, negative_image))\n",
        "    labels.append(1)\n",
        "    labels.append(0)\n",
        "\n",
        "    for pair in positive_pairs:\n",
        "        pair0 = tf.reshape(pair[0], -1)\n",
        "        pair1 = tf.reshape(pair[1], -1)\n",
        "        anchor_embedding = quantum_embedding_model(features=pair0, weights=sample_weights_tf)\n",
        "        positive_embedding = quantum_embedding_model(features=pair1, weights=sample_weights_tf)\n",
        "        similarity = quantum_fidelity(anchor_embedding, positive_embedding)\n",
        "        print(\"Similarity score:\", similarity, \"Label: 1\")\n",
        "        plt.figure()\n",
        "        plt.subplot(1, 2, 1)\n",
        "        plt.imshow(pair[0], cmap='gray')\n",
        "        plt.title(\"Anchor Image\")\n",
        "        plt.axis('off')\n",
        "        plt.subplot(1, 2, 2)\n",
        "        plt.imshow(pair[1], cmap='gray')\n",
        "        plt.title(\"Positive Image\")\n",
        "        plt.axis('off')\n",
        "        plt.show()\n",
        "\n",
        "    # Embeddings and similarity scores for negative pairs\n",
        "    for pair in negative_pairs:\n",
        "        pair0 = tf.reshape(pair[0], -1)\n",
        "        pair1 = tf.reshape(pair[1], -1)\n",
        "        anchor_embedding = quantum_embedding_model(features=pair0, weights=sample_weights_tf)\n",
        "        negative_embedding = quantum_embedding_model(features=pair1, weights=sample_weights_tf)\n",
        "        similarity = quantum_fidelity(anchor_embedding, negative_embedding)\n",
        "        print(\"Similarity score:\", similarity, \"Label: 0\")\n",
        "        plt.figure()\n",
        "        plt.subplot(1, 2, 1)\n",
        "        plt.imshow(pair[0], cmap='gray')\n",
        "        plt.title(\"Anchor Image\")\n",
        "        plt.axis('off')\n",
        "        plt.subplot(1, 2, 2)\n",
        "        plt.imshow(pair[1], cmap='gray')\n",
        "        plt.title(\"Negative Image\")\n",
        "        plt.axis('off')\n",
        "        plt.show()\n",
        "\n",
        "evaluate_model(quantum_embedding_model, x_train)\n",
        "\n",
        "\n",
        "\n",
        "#Evaluating for three more pairs\n",
        "for i in range(3):\n",
        "    anchor_image = x_train[np.random.randint(0, len(x_train))]\n",
        "    positive_image = anchor_image\n",
        "    negative_image = x_train[np.random.randint(0, len(x_train))]\n",
        "    while np.array_equal(negative_image, anchor_image):\n",
        "        negative_image = x_train[np.random.randint(0, len(x_train))]\n",
        "\n",
        "    pair0 = tf.reshape(anchor_image, -1)\n",
        "    pair1 = tf.reshape(positive_image, -1)\n",
        "    anchor_embedding = quantum_embedding_model(features=pair0, weights=sample_weights_tf)\n",
        "    positive_embedding = quantum_embedding_model(features=pair1, weights=sample_weights_tf)\n",
        "    similarity = quantum_fidelity(anchor_embedding, positive_embedding)\n",
        "    print(\"Similarity score (positive):\", similarity)\n",
        "\n",
        "    pair0 = tf.reshape(anchor_image, -1)\n",
        "    pair1 = tf.reshape(negative_image, -1)\n",
        "    anchor_embedding = quantum_embedding_model(features=pair0, weights=sample_weights_tf)\n",
        "    negative_embedding = quantum_embedding_model(features=pair1, weights=sample_weights_tf)\n",
        "    similarity = quantum_fidelity(anchor_embedding, negative_embedding)\n",
        "    print(\"Similarity score (negative):\", similarity)\n",
        "\n",
        "    plt.figure()\n",
        "    plt.subplot(1, 3, 1)\n",
        "    plt.imshow(anchor_image, cmap='gray')\n",
        "    plt.title(\"Anchor Image\")\n",
        "    plt.axis('off')\n",
        "    plt.subplot(1, 3, 2)\n",
        "    plt.imshow(positive_image, cmap='gray')\n",
        "    plt.title(\"Positive Image\")\n",
        "    plt.axis('off')\n",
        "    plt.subplot(1, 3, 3)\n",
        "    plt.imshow(negative_image, cmap='gray')\n",
        "    plt.title(\"Negative Image\")\n",
        "    plt.axis('off')\n",
        "    plt.tight_layout()\n",
        "    plt.show()\n"
      ]
    }
  ]
}